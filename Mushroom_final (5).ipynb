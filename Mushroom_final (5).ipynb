{
  "nbformat": 4,
  "nbformat_minor": 0,
  "metadata": {
    "colab": {
      "provenance": []
    },
    "kernelspec": {
      "name": "python3",
      "display_name": "Python 3"
    },
    "language_info": {
      "name": "python"
    }
  },
  "cells": [
    {
      "cell_type": "code",
      "execution_count": 1,
      "metadata": {
        "id": "W6AI6sVoKnQZ"
      },
      "outputs": [],
      "source": [
        "import pandas as pd\n",
        "import numpy as np\n",
        "import matplotlib.pyplot as plt\n",
        "import seaborn as sns\n",
        "from google.colab import files\n",
        "from sklearn.preprocessing import StandardScaler"
      ]
    },
    {
      "cell_type": "code",
      "source": [
        "\n",
        "from sklearn.impute import SimpleImputer\n",
        "from sklearn.preprocessing import OneHotEncoder,LabelEncoder\n",
        "\n",
        "from sklearn.pipeline import Pipeline,make_pipeline\n",
        "from sklearn.compose import ColumnTransformer, make_column_transformer\n",
        "from sklearn import set_config\n",
        "\n",
        "from sklearn.model_selection import train_test_split,GridSearchCV\n",
        "\n",
        "from sklearn.decomposition import PCA\n",
        "\n",
        "from sklearn.tree import DecisionTreeClassifier\n",
        "from sklearn.ensemble import RandomForestClassifier\n"
      ],
      "metadata": {
        "id": "9Mjt26tlRyGy"
      },
      "execution_count": 2,
      "outputs": []
    },
    {
      "cell_type": "code",
      "source": [
        "df= pd.read_csv('/content/drive/MyDrive/Mushroom_Train/Mushroom_Train.csv')"
      ],
      "metadata": {
        "id": "FyIHngAnKzxJ"
      },
      "execution_count": 8,
      "outputs": []
    },
    {
      "cell_type": "code",
      "source": [
        "df_test = pd.read_csv('/content/drive/MyDrive/Mushroom_Train/test.csv')"
      ],
      "metadata": {
        "id": "Y31NK78Eqt6F"
      },
      "execution_count": 7,
      "outputs": []
    },
    {
      "cell_type": "code",
      "source": [
        "from google.colab import drive\n",
        "drive.mount('/content/drive')"
      ],
      "metadata": {
        "colab": {
          "base_uri": "https://localhost:8080/"
        },
        "id": "1AGXCREr51_v",
        "outputId": "dd0c859e-ce12-42b7-f773-6fd28efe0a4f"
      },
      "execution_count": 9,
      "outputs": [
        {
          "output_type": "stream",
          "name": "stdout",
          "text": [
            "Drive already mounted at /content/drive; to attempt to forcibly remount, call drive.mount(\"/content/drive\", force_remount=True).\n"
          ]
        }
      ]
    },
    {
      "cell_type": "code",
      "source": [
        "df_train = df.drop(columns=['class'],axis = 1)"
      ],
      "metadata": {
        "id": "kZvXsN0hso2A"
      },
      "execution_count": 10,
      "outputs": []
    },
    {
      "cell_type": "code",
      "source": [
        "df_train.isnull().sum()/df_train.shape[0]*100"
      ],
      "metadata": {
        "id": "f6GgRG-gK7OD",
        "colab": {
          "base_uri": "https://localhost:8080/",
          "height": 742
        },
        "outputId": "a7ff22b5-5927-4e45-91f6-6d78422c5a72"
      },
      "execution_count": 11,
      "outputs": [
        {
          "output_type": "execute_result",
          "data": {
            "text/plain": [
              "id                       0.000000\n",
              "cap-diameter             0.000128\n",
              "cap-shape                0.001283\n",
              "cap-surface             21.528227\n",
              "cap-color                0.000385\n",
              "does-bruise-or-bleed     0.000257\n",
              "gill-attachment         16.809280\n",
              "gill-spacing            40.373988\n",
              "gill-color               0.001829\n",
              "stem-height              0.000000\n",
              "stem-width               0.000000\n",
              "stem-root               88.452732\n",
              "stem-surface            63.551362\n",
              "stem-color               0.001219\n",
              "veil-type               94.884350\n",
              "veil-color              87.936970\n",
              "has-ring                 0.000770\n",
              "ring-type                4.134818\n",
              "spore-print-color       91.425482\n",
              "habitat                  0.001444\n",
              "season                   0.000000\n",
              "dtype: float64"
            ],
            "text/html": [
              "<div>\n",
              "<style scoped>\n",
              "    .dataframe tbody tr th:only-of-type {\n",
              "        vertical-align: middle;\n",
              "    }\n",
              "\n",
              "    .dataframe tbody tr th {\n",
              "        vertical-align: top;\n",
              "    }\n",
              "\n",
              "    .dataframe thead th {\n",
              "        text-align: right;\n",
              "    }\n",
              "</style>\n",
              "<table border=\"1\" class=\"dataframe\">\n",
              "  <thead>\n",
              "    <tr style=\"text-align: right;\">\n",
              "      <th></th>\n",
              "      <th>0</th>\n",
              "    </tr>\n",
              "  </thead>\n",
              "  <tbody>\n",
              "    <tr>\n",
              "      <th>id</th>\n",
              "      <td>0.000000</td>\n",
              "    </tr>\n",
              "    <tr>\n",
              "      <th>cap-diameter</th>\n",
              "      <td>0.000128</td>\n",
              "    </tr>\n",
              "    <tr>\n",
              "      <th>cap-shape</th>\n",
              "      <td>0.001283</td>\n",
              "    </tr>\n",
              "    <tr>\n",
              "      <th>cap-surface</th>\n",
              "      <td>21.528227</td>\n",
              "    </tr>\n",
              "    <tr>\n",
              "      <th>cap-color</th>\n",
              "      <td>0.000385</td>\n",
              "    </tr>\n",
              "    <tr>\n",
              "      <th>does-bruise-or-bleed</th>\n",
              "      <td>0.000257</td>\n",
              "    </tr>\n",
              "    <tr>\n",
              "      <th>gill-attachment</th>\n",
              "      <td>16.809280</td>\n",
              "    </tr>\n",
              "    <tr>\n",
              "      <th>gill-spacing</th>\n",
              "      <td>40.373988</td>\n",
              "    </tr>\n",
              "    <tr>\n",
              "      <th>gill-color</th>\n",
              "      <td>0.001829</td>\n",
              "    </tr>\n",
              "    <tr>\n",
              "      <th>stem-height</th>\n",
              "      <td>0.000000</td>\n",
              "    </tr>\n",
              "    <tr>\n",
              "      <th>stem-width</th>\n",
              "      <td>0.000000</td>\n",
              "    </tr>\n",
              "    <tr>\n",
              "      <th>stem-root</th>\n",
              "      <td>88.452732</td>\n",
              "    </tr>\n",
              "    <tr>\n",
              "      <th>stem-surface</th>\n",
              "      <td>63.551362</td>\n",
              "    </tr>\n",
              "    <tr>\n",
              "      <th>stem-color</th>\n",
              "      <td>0.001219</td>\n",
              "    </tr>\n",
              "    <tr>\n",
              "      <th>veil-type</th>\n",
              "      <td>94.884350</td>\n",
              "    </tr>\n",
              "    <tr>\n",
              "      <th>veil-color</th>\n",
              "      <td>87.936970</td>\n",
              "    </tr>\n",
              "    <tr>\n",
              "      <th>has-ring</th>\n",
              "      <td>0.000770</td>\n",
              "    </tr>\n",
              "    <tr>\n",
              "      <th>ring-type</th>\n",
              "      <td>4.134818</td>\n",
              "    </tr>\n",
              "    <tr>\n",
              "      <th>spore-print-color</th>\n",
              "      <td>91.425482</td>\n",
              "    </tr>\n",
              "    <tr>\n",
              "      <th>habitat</th>\n",
              "      <td>0.001444</td>\n",
              "    </tr>\n",
              "    <tr>\n",
              "      <th>season</th>\n",
              "      <td>0.000000</td>\n",
              "    </tr>\n",
              "  </tbody>\n",
              "</table>\n",
              "</div><br><label><b>dtype:</b> float64</label>"
            ]
          },
          "metadata": {},
          "execution_count": 11
        }
      ]
    },
    {
      "cell_type": "markdown",
      "source": [
        "\n",
        "#Data Cleaning"
      ],
      "metadata": {
        "id": "jL5VR7ccLDx-"
      }
    },
    {
      "cell_type": "code",
      "source": [
        "df_train.drop(columns = ['stem-root' , 'stem-surface' , 'veil-type' , 'veil-color' , 'spore-print-color' , 'gill-spacing'] , inplace = True )\n",
        "df_test.drop(columns = ['stem-root' , 'stem-surface' , 'veil-type' , 'veil-color' , 'spore-print-color' , 'gill-spacing'] , inplace = True)"
      ],
      "metadata": {
        "id": "LkqZL_CMK__W"
      },
      "execution_count": 12,
      "outputs": []
    },
    {
      "cell_type": "code",
      "source": [
        "print(df_train.shape,df_test.shape)"
      ],
      "metadata": {
        "id": "qUAVPPIvLNUK",
        "colab": {
          "base_uri": "https://localhost:8080/"
        },
        "outputId": "85a555cd-a2ee-4c51-e3c3-d5f1af4e12df"
      },
      "execution_count": 13,
      "outputs": [
        {
          "output_type": "stream",
          "name": "stdout",
          "text": [
            "(3116945, 15) (2077964, 15)\n"
          ]
        }
      ]
    },
    {
      "cell_type": "code",
      "source": [
        "#CODE SNIPPET FOR ITERATING IN VALUE COUNT LIST of genuine categorical values\n",
        "cap_shape_list = []\n",
        "for shape , count in df_train['cap-shape'].value_counts().items():\n",
        "  if count > 500 :\n",
        "    cap_shape_list.append(shape)\n",
        "\n",
        "print(cap_shape_list)"
      ],
      "metadata": {
        "id": "QO46Tt1ELPiz",
        "colab": {
          "base_uri": "https://localhost:8080/"
        },
        "outputId": "9be5a063-5f20-4249-c275-98bf80f92ee2"
      },
      "execution_count": 14,
      "outputs": [
        {
          "output_type": "stream",
          "name": "stdout",
          "text": [
            "['x', 'f', 's', 'b', 'o', 'p', 'c']\n"
          ]
        }
      ]
    },
    {
      "cell_type": "code",
      "source": [
        "df_train['cap-surface'].value_counts()\n",
        "cap_surface_list = []\n",
        "for shape , count in df_train['cap-surface'].value_counts().items():\n",
        "  if count > 44000 :\n",
        "    cap_surface_list.append(shape)\n",
        "\n",
        "print(cap_surface_list)"
      ],
      "metadata": {
        "id": "a1Np1pTvLouj",
        "colab": {
          "base_uri": "https://localhost:8080/"
        },
        "outputId": "b5a4bc4b-8e83-4e97-e965-73f37c092f5d"
      },
      "execution_count": 15,
      "outputs": [
        {
          "output_type": "stream",
          "name": "stdout",
          "text": [
            "['t', 's', 'y', 'h', 'g', 'd', 'k', 'e', 'i', 'w', 'l']\n"
          ]
        }
      ]
    },
    {
      "cell_type": "code",
      "source": [
        "df_train['cap-color'].value_counts()\n",
        "cap_color_list = []\n",
        "for shape , count in df_train['cap-color'].value_counts().items():\n",
        "  if count > 39000 :\n",
        "    cap_color_list.append(shape)\n",
        "\n",
        "print(cap_color_list)"
      ],
      "metadata": {
        "id": "-_e3ES6ELqg-",
        "colab": {
          "base_uri": "https://localhost:8080/"
        },
        "outputId": "7b86e0a9-46e3-4cd9-aed9-3364ef7c92cd"
      },
      "execution_count": 16,
      "outputs": [
        {
          "output_type": "stream",
          "name": "stdout",
          "text": [
            "['n', 'y', 'w', 'g', 'e', 'o', 'p', 'r', 'u', 'b', 'k', 'l']\n"
          ]
        }
      ]
    },
    {
      "cell_type": "code",
      "source": [
        "df_train['gill-attachment'].value_counts()\n",
        "gill_attachment_list = []\n",
        "for shape , count in df_train['gill-attachment'].value_counts().items():\n",
        "  if count > 39000 :\n",
        "    gill_attachment_list.append(shape)\n",
        "\n",
        "print(gill_attachment_list)"
      ],
      "metadata": {
        "id": "iegwBLGmLsiP",
        "colab": {
          "base_uri": "https://localhost:8080/"
        },
        "outputId": "c7205ceb-3dfc-4b64-f82e-2ab301d97b25"
      },
      "execution_count": 17,
      "outputs": [
        {
          "output_type": "stream",
          "name": "stdout",
          "text": [
            "['a', 'd', 'x', 'e', 's', 'p', 'f']\n"
          ]
        }
      ]
    },
    {
      "cell_type": "code",
      "source": [
        "df_train['gill-color'].value_counts()\n",
        "gill_color_list = []\n",
        "for shape , count in df_train['gill-color'].value_counts().items():\n",
        "  if count > 39000 :\n",
        "    gill_color_list.append(shape)\n",
        "\n",
        "print(gill_color_list)"
      ],
      "metadata": {
        "id": "v1_ZwFlKLwpm",
        "colab": {
          "base_uri": "https://localhost:8080/"
        },
        "outputId": "057081ce-5fad-4721-e167-afd39d2181d4"
      },
      "execution_count": 18,
      "outputs": [
        {
          "output_type": "stream",
          "name": "stdout",
          "text": [
            "['w', 'n', 'y', 'p', 'g', 'o', 'k', 'f', 'r', 'e', 'b', 'u']\n"
          ]
        }
      ]
    },
    {
      "cell_type": "code",
      "source": [
        "df_train['stem-color'].value_counts()\n",
        "stem_color_list = []\n",
        "for shape , count in df_train['stem-color'].value_counts().items():\n",
        "  if count > 500 :\n",
        "    stem_color_list.append(shape)\n",
        "\n",
        "print(stem_color_list)"
      ],
      "metadata": {
        "id": "ImGW1Q_ULyRU",
        "colab": {
          "base_uri": "https://localhost:8080/"
        },
        "outputId": "2834e4d9-0865-4055-81d2-22f1bb0007ce"
      },
      "execution_count": 19,
      "outputs": [
        {
          "output_type": "stream",
          "name": "stdout",
          "text": [
            "['w', 'n', 'y', 'g', 'o', 'e', 'u', 'p', 'k', 'r', 'l', 'b', 'f']\n"
          ]
        }
      ]
    },
    {
      "cell_type": "code",
      "source": [
        "\n",
        "df_train['cap-shape'] = df_train['cap-shape'].apply(lambda x: x if x in cap_shape_list else np.nan)\n",
        "\n",
        "df_train['cap-surface'] = df_train['cap-surface'].apply(lambda x: x if x in cap_surface_list else np.nan)\n",
        "\n",
        "df_train['cap-color'] = df_train['cap-color'].apply(lambda x: x if x in cap_color_list else np.nan)\n",
        "\n",
        "df_train['does-bruise-or-bleed'] = df_train['does-bruise-or-bleed'].apply(lambda x: x if x in ['t' , 'f'] else np.nan)\n",
        "\n",
        "df_train['gill-attachment'] = df_train['gill-attachment'].apply(lambda x: x if x in gill_attachment_list else np.nan)\n",
        "\n",
        "df_train['gill-color'] = df_train['gill-color'].apply(lambda x: x if x in gill_color_list else np.nan)\n",
        "\n",
        "df_train['stem-color'] = df_train['stem-color'].apply(lambda x: x if x in stem_color_list else np.nan)\n",
        "\n",
        "df_train['has-ring'] = df_train['has-ring'].apply(lambda x: x if x in ['t' , 'f'] else np.nan)\n",
        "\n",
        "df_train['ring-type'] = df_train['ring-type'].apply(lambda x: x if x in ['f','e','z','l','r','p','g','m'] else np.nan)\n",
        "\n",
        "df_train['habitat'] = df_train['habitat'].apply(lambda x: x if x in ['d','g','l','m','h','w','p','u'] else np.nan)\n",
        "\n",
        "df_train.drop(columns = ['id'] , inplace = True)"
      ],
      "metadata": {
        "id": "WkF3_5rLL1Yv"
      },
      "execution_count": 20,
      "outputs": []
    },
    {
      "cell_type": "code",
      "source": [
        "df_test['cap-shape'] = df_test['cap-shape'].apply(lambda x: x if x in cap_shape_list else np.nan)\n",
        "\n",
        "df_test['cap-surface'] = df_test['cap-surface'].apply(lambda x: x if x in cap_surface_list else np.nan)\n",
        "\n",
        "df_test['cap-color'] = df_test['cap-color'].apply(lambda x: x if x in cap_color_list else np.nan)\n",
        "\n",
        "df_test['does-bruise-or-bleed'] = df_test['does-bruise-or-bleed'].apply(lambda x: x if x in ['t' , 'f'] else np.nan)\n",
        "\n",
        "df_test['gill-attachment'] = df_test['gill-attachment'].apply(lambda x: x if x in gill_attachment_list else np.nan)\n",
        "\n",
        "df_test['gill-color'] = df_test['gill-color'].apply(lambda x: x if x in gill_color_list else np.nan)\n",
        "\n",
        "df_test['stem-color'] = df_test['stem-color'].apply(lambda x: x if x in stem_color_list else np.nan)\n",
        "\n",
        "df_test['has-ring'] = df_test['has-ring'].apply(lambda x: x if x in ['t' , 'f'] else np.nan)\n",
        "\n",
        "df_test['ring-type'] = df_test['ring-type'].apply(lambda x: x if x in ['f','e','z','l','r','p','g','m'] else np.nan)\n",
        "\n",
        "df_test['habitat'] = df_test['habitat'].apply(lambda x: x if x in ['d','g','l','m','h','w','p','u'] else np.nan)\n",
        "\n",
        "df_test.drop(columns = ['id'] , inplace = True)"
      ],
      "metadata": {
        "id": "ks3FeprmtPWp"
      },
      "execution_count": 21,
      "outputs": []
    },
    {
      "cell_type": "code",
      "source": [
        "print(df_train.shape , df_test.shape)"
      ],
      "metadata": {
        "id": "n0USxZf9L9XB",
        "colab": {
          "base_uri": "https://localhost:8080/"
        },
        "outputId": "f5623dc8-5e97-4705-dd25-c909f055e76f"
      },
      "execution_count": 22,
      "outputs": [
        {
          "output_type": "stream",
          "name": "stdout",
          "text": [
            "(3116945, 14) (2077964, 14)\n"
          ]
        }
      ]
    },
    {
      "cell_type": "code",
      "source": [
        "plt.bar(df_train['habitat'].value_counts().index , df_train['habitat'].value_counts())\n",
        "print(df_train['habitat'].isnull().sum()/len(df_train)*100)"
      ],
      "metadata": {
        "id": "OhHk1__mNiNH",
        "colab": {
          "base_uri": "https://localhost:8080/",
          "height": 462
        },
        "outputId": "b4debe84-7364-4687-b635-a767d0a83497"
      },
      "execution_count": 23,
      "outputs": [
        {
          "output_type": "stream",
          "name": "stdout",
          "text": [
            "0.0157846866082013\n"
          ]
        },
        {
          "output_type": "display_data",
          "data": {
            "text/plain": [
              "<Figure size 640x480 with 1 Axes>"
            ],
            "image/png": "[encoded data removed]"
          },
          "metadata": {}
        }
      ]
    },
    {
      "cell_type": "markdown",
      "source": [
        "#Outliers Handling"
      ],
      "metadata": {
        "id": "jeq-T5fpZxIj"
      }
    },
    {
      "cell_type": "code",
      "source": [
        "upper_limit = df_train['cap-diameter'].mean() + 3*df_train['cap-diameter'].std()\n",
        "print(upper_limit)\n",
        "lower_limit = df_train['cap-diameter'].mean() - 3*df_train['cap-diameter'].std()\n",
        "print(lower_limit)"
      ],
      "metadata": {
        "id": "fYYyGSOovWFW",
        "colab": {
          "base_uri": "https://localhost:8080/"
        },
        "outputId": "688fb71b-e776-46ea-a7ff-ad52e122d4a0"
      },
      "execution_count": 24,
      "outputs": [
        {
          "output_type": "stream",
          "name": "stdout",
          "text": [
            "20.28363990326598\n",
            "-7.663943187800406\n"
          ]
        }
      ]
    },
    {
      "cell_type": "code",
      "source": [
        "sum = 0\n",
        "for x in df_train['cap-diameter']:\n",
        "  if x > upper_limit or x < lower_limit:\n",
        "    sum += 1\n",
        "print(sum , sum/len(df_train)*100)"
      ],
      "metadata": {
        "id": "BB_Ik0H4xDJ6",
        "colab": {
          "base_uri": "https://localhost:8080/"
        },
        "outputId": "bb6fbc8e-8fbb-42aa-fae5-831d5008f9cc"
      },
      "execution_count": 25,
      "outputs": [
        {
          "output_type": "stream",
          "name": "stdout",
          "text": [
            "22773 0.7306192441637565\n"
          ]
        }
      ]
    },
    {
      "cell_type": "code",
      "source": [
        "upper = df_train['cap-diameter'].quantile(0.99)\n",
        "print(upper)\n",
        "lower = df_train['cap-diameter'].quantile(0.01)\n",
        "print(lower)"
      ],
      "metadata": {
        "id": "ZKrm1iKFyF4A",
        "colab": {
          "base_uri": "https://localhost:8080/"
        },
        "outputId": "276c4051-af36-4f07-9515-13c560d589ef"
      },
      "execution_count": 26,
      "outputs": [
        {
          "output_type": "stream",
          "name": "stdout",
          "text": [
            "18.86\n",
            "0.74\n"
          ]
        }
      ]
    },
    {
      "cell_type": "code",
      "source": [
        "sum = 0\n",
        "for x in df_train['cap-diameter']:\n",
        "  if x > upper or x < lower:\n",
        "    sum += 1\n",
        "print(sum , sum/len(df_train)*100)"
      ],
      "metadata": {
        "id": "ZKk6XNEByR3d",
        "colab": {
          "base_uri": "https://localhost:8080/"
        },
        "outputId": "89725a35-2e7c-4968-9fc1-a39e1badaec5"
      },
      "execution_count": 27,
      "outputs": [
        {
          "output_type": "stream",
          "name": "stdout",
          "text": [
            "61843 1.984090190876002\n"
          ]
        }
      ]
    },
    {
      "cell_type": "code",
      "source": [
        "percentile75 = df_train['cap-diameter'].quantile(0.75)\n",
        "percentile25 = df_train['cap-diameter'].quantile(0.25)\n",
        "iqr = percentile75 - percentile25\n",
        "upper_limit = percentile75 + 1.5*iqr\n",
        "lower_limit = percentile25 - 1.5*iqr\n",
        "print(upper_limit , lower_limit)\n",
        "\n",
        "sum = 0\n",
        "for x in df_train['cap-diameter']:\n",
        "  if x > upper_limit or x < lower_limit:\n",
        "    sum += 1\n",
        "print(sum , sum/len(df_train)*100)\n",
        "\n",
        "df_train['cap-diameter'] = np.where(df_train['cap-diameter'] > upper_limit , upper_limit ,\n",
        "                                  np.where(df_train['cap-diameter'] < lower_limit , lower_limit ,df_train['cap-diameter']) )"
      ],
      "metadata": {
        "id": "w1_SBEjgybIt",
        "colab": {
          "base_uri": "https://localhost:8080/"
        },
        "outputId": "f8e1df19-5b6f-4293-f9c0-652e9b5aa26c"
      },
      "execution_count": 28,
      "outputs": [
        {
          "output_type": "stream",
          "name": "stdout",
          "text": [
            "15.620000000000001 -4.0600000000000005\n",
            "76124 2.4422631775664954\n"
          ]
        }
      ]
    },
    {
      "cell_type": "code",
      "source": [
        "plt.figure(figsize=(16, 8))\n",
        "\n",
        "# First subplot\n",
        "plt.subplot(1, 2, 1)\n",
        "sns.boxplot(df_train['cap-diameter'])  # Or sns.kdeplot(df_train['cap-diameter'])\n",
        "\n",
        "plt.title('Distribution of Cap Diameter in Original Dataset')\n",
        "plt.xlabel('Cap Diameter')\n",
        "plt.ylabel('Frequency')\n",
        "\n",
        "# Second subplot\n",
        "plt.subplot(1, 2, 2)\n",
        "sns.boxplot(df_train['cap-diameter'])  # Or sns.kdeplot(df_train['cap-diameter'])\n",
        "\n",
        "plt.title('Distribution of Cap Diameter in New Dataset')\n",
        "plt.xlabel('Cap Diameter')\n",
        "plt.ylabel('Frequency')\n",
        "\n",
        "# Adjust layout for better visualization\n",
        "plt.tight_layout()\n",
        "\n",
        "# Show the plots\n",
        "plt.show()"
      ],
      "metadata": {
        "id": "wCdBJYOD03LA",
        "colab": {
          "base_uri": "https://localhost:8080/",
          "height": 719
        },
        "outputId": "7e4b91ff-8954-4b7c-fff6-e12150eb14a2"
      },
      "execution_count": 29,
      "outputs": [
        {
          "output_type": "display_data",
          "data": {
            "text/plain": [
              "<Figure size 1600x800 with 2 Axes>"
            ],
            "image/png": "[encoded data removed]"
          },
          "metadata": {}
        }
      ]
    },
    {
      "cell_type": "code",
      "source": [
        "percentile75 = df_train['stem-width'].quantile(0.75)\n",
        "percentile25 = df_train['stem-width'].quantile(0.25)\n",
        "iqr = percentile75 - percentile25\n",
        "upper_limit = percentile75 + 1.5*iqr\n",
        "lower_limit = percentile25 - 1.5*iqr\n",
        "print(upper_limit , lower_limit)\n",
        "\n",
        "\n",
        "sum = 0\n",
        "for x in df_train['stem-width']:\n",
        "  if x > upper_limit or x < lower_limit:\n",
        "    sum += 1\n",
        "print(sum , sum/len(df_train)*100)\n",
        "\n",
        "df_train['stem-width'] = np.where(df_train['stem-width'] > upper_limit , upper_limit ,\n",
        "                                  np.where(df_train['stem-width'] < lower_limit , lower_limit ,df_train['stem-width']) )"
      ],
      "metadata": {
        "id": "Af5Ee7pBz0ot",
        "colab": {
          "base_uri": "https://localhost:8080/"
        },
        "outputId": "2f109a5b-df97-4d69-df13-ec22919a290e"
      },
      "execution_count": 30,
      "outputs": [
        {
          "output_type": "stream",
          "name": "stdout",
          "text": [
            "31.62 -11.02\n",
            "66481 2.1328897365850215\n"
          ]
        }
      ]
    },
    {
      "cell_type": "code",
      "source": [
        "percentile75 = df_train['stem-height'].quantile(0.75)\n",
        "percentile25 = df_train['stem-height'].quantile(0.25)\n",
        "iqr = percentile75 - percentile25\n",
        "upper_limit = percentile75 + 1.5*iqr\n",
        "lower_limit = percentile25 - 1.5*iqr\n",
        "print(upper_limit , lower_limit)\n",
        "\n",
        "\n",
        "sum = 0\n",
        "for x in df_train['stem-height']:\n",
        "  if x > upper_limit or x < lower_limit:\n",
        "    sum += 1\n",
        "print(sum , sum/len(df_train)*100)\n",
        "\n",
        "df_train['stem-height'] = np.where(df_train['stem-height'] > upper_limit , upper_limit ,\n",
        "                                  np.where(df_train['stem-height'] < lower_limit , lower_limit ,df_train['stem-height']) )"
      ],
      "metadata": {
        "id": "Ayx53Ri10J4V",
        "colab": {
          "base_uri": "https://localhost:8080/"
        },
        "outputId": "c5c87d24-a15d-419f-9269-5f9e27dcdc68"
      },
      "execution_count": 31,
      "outputs": [
        {
          "output_type": "stream",
          "name": "stdout",
          "text": [
            "11.52 0.5599999999999996\n",
            "132419 4.248358569047577\n"
          ]
        }
      ]
    },
    {
      "cell_type": "code",
      "source": [
        "print(df_train['stem-width'].isnull().sum()/len(df_train)*100)\n",
        "print(df_train['stem-height'].isnull().sum()/len(df_train)*100)\n",
        "print(df_train['cap-diameter'].isnull().sum()/len(df_train)*100)"
      ],
      "metadata": {
        "id": "hEK5N-EHS1QM",
        "colab": {
          "base_uri": "https://localhost:8080/"
        },
        "outputId": "42cdad67-3e3a-4ff7-c6dc-c0d1526d23af"
      },
      "execution_count": 32,
      "outputs": [
        {
          "output_type": "stream",
          "name": "stdout",
          "text": [
            "0.0\n",
            "0.0\n",
            "0.00012833078543253088\n"
          ]
        }
      ]
    },
    {
      "cell_type": "code",
      "source": [
        "percentile75 = df_test['stem-height'].quantile(0.75)\n",
        "percentile25 = df_test['stem-height'].quantile(0.25)\n",
        "iqr = percentile75 - percentile25\n",
        "upper_limit = percentile75 + 1.5*iqr\n",
        "lower_limit = percentile25 - 1.5*iqr\n",
        "print(upper_limit , lower_limit)\n",
        "\n",
        "\n",
        "sum = 0\n",
        "for x in df_test['stem-height']:\n",
        "  if x > upper_limit or x < lower_limit:\n",
        "    sum += 1\n",
        "print(sum , sum/len(df_test)*100)\n",
        "\n",
        "df_test['stem-height'] = np.where(df_test['stem-height'] > upper_limit , upper_limit ,\n",
        "                                  np.where(df_test['stem-height'] < lower_limit , lower_limit ,df_test['stem-height']) )"
      ],
      "metadata": {
        "id": "vIjpvVMSYO2E",
        "colab": {
          "base_uri": "https://localhost:8080/"
        },
        "outputId": "abd0494b-e236-4daa-92be-d7a4176512cc"
      },
      "execution_count": 33,
      "outputs": [
        {
          "output_type": "stream",
          "name": "stdout",
          "text": [
            "11.52 0.5599999999999996\n",
            "88229 4.245934963262116\n"
          ]
        }
      ]
    },
    {
      "cell_type": "code",
      "source": [
        "percentile75 = df_test['stem-width'].quantile(0.75)\n",
        "percentile25 = df_test['stem-width'].quantile(0.25)\n",
        "iqr = percentile75 - percentile25\n",
        "upper_limit = percentile75 + 1.5*iqr\n",
        "lower_limit = percentile25 - 1.5*iqr\n",
        "print(upper_limit , lower_limit)\n",
        "\n",
        "\n",
        "sum = 0\n",
        "for x in df_test['stem-width']:\n",
        "  if x > upper_limit or x < lower_limit:\n",
        "    sum += 1\n",
        "print(sum , sum/len(df_test)*100)\n",
        "\n",
        "df_test['stem-width'] = np.where(df_test['stem-width'] > upper_limit , upper_limit ,\n",
        "                                  np.where(df_test['stem-width'] < lower_limit , lower_limit ,df_test['stem-width']) )"
      ],
      "metadata": {
        "id": "Fv-TF_NqYbkv",
        "colab": {
          "base_uri": "https://localhost:8080/"
        },
        "outputId": "27034e8e-8d4a-4826-821a-ece78328ed17"
      },
      "execution_count": 34,
      "outputs": [
        {
          "output_type": "stream",
          "name": "stdout",
          "text": [
            "31.595 -11.004999999999999\n",
            "44766 2.154320286588218\n"
          ]
        }
      ]
    },
    {
      "cell_type": "code",
      "source": [
        "percentile75 = df_test['cap-diameter'].quantile(0.75)\n",
        "percentile25 = df_test['cap-diameter'].quantile(0.25)\n",
        "iqr = percentile75 - percentile25\n",
        "upper_limit = percentile75 + 1.5*iqr\n",
        "lower_limit = percentile25 - 1.5*iqr\n",
        "print(upper_limit , lower_limit)\n",
        "\n",
        "sum = 0\n",
        "for x in df_test['cap-diameter']:\n",
        "  if x > upper_limit or x < lower_limit:\n",
        "    sum += 1\n",
        "print(sum , sum/len(df_test)*100)\n",
        "\n",
        "df_test['cap-diameter'] = np.where(df_test['cap-diameter'] > upper_limit , upper_limit ,\n",
        "                                  np.where(df_test['cap-diameter'] < lower_limit , lower_limit ,df_test['cap-diameter']) )"
      ],
      "metadata": {
        "id": "3vYrDcCBY0Mn",
        "colab": {
          "base_uri": "https://localhost:8080/"
        },
        "outputId": "fd88515f-034c-4db0-9061-342570cc0de1"
      },
      "execution_count": 35,
      "outputs": [
        {
          "output_type": "stream",
          "name": "stdout",
          "text": [
            "15.61 -4.07\n",
            "51122 2.4601966155332815\n"
          ]
        }
      ]
    },
    {
      "cell_type": "markdown",
      "source": [
        "# Making Pipeline\n"
      ],
      "metadata": {
        "id": "PVMmpsDwR9TA"
      }
    },
    {
      "cell_type": "code",
      "source": [
        "numerical_pipeline = Pipeline(steps =\n",
        " [\n",
        "    ('imputer' , SimpleImputer(strategy = 'mean')),\n",
        "    ('scaler' , StandardScaler())\n",
        " ]\n",
        "                               )\n",
        "\n"
      ],
      "metadata": {
        "id": "ko-Q2iohQZ8f"
      },
      "execution_count": 36,
      "outputs": []
    },
    {
      "cell_type": "code",
      "source": [
        "categorical_pipeline1 = Pipeline(steps =\n",
        " [\n",
        "    ('imputer' , SimpleImputer(strategy = 'most_frequent')),\n",
        "    ('encoder' , OneHotEncoder(handle_unknown = 'ignore', sparse_output=False , drop = 'first'))\n",
        " ]\n",
        "                               )"
      ],
      "metadata": {
        "id": "SUW0_n9gkIKF"
      },
      "execution_count": 37,
      "outputs": []
    },
    {
      "cell_type": "code",
      "source": [
        "categorical_pipeline2 = Pipeline(steps =\n",
        " [\n",
        "    ('imputer' , SimpleImputer(strategy = 'constant' , fill_value = 'missing')),\n",
        "    ('encoder' , OneHotEncoder(handle_unknown = 'ignore', sparse_output=False , drop='first'))\n",
        " ]\n",
        "                               )"
      ],
      "metadata": {
        "id": "sAPQ11yEkQfT"
      },
      "execution_count": 38,
      "outputs": []
    },
    {
      "cell_type": "code",
      "source": [
        "set_config(display = 'diagram')"
      ],
      "metadata": {
        "id": "Gv7Bl2cWkcUc"
      },
      "execution_count": 39,
      "outputs": []
    },
    {
      "cell_type": "code",
      "source": [
        "df_train.info()"
      ],
      "metadata": {
        "id": "upzMx3sFkehu",
        "colab": {
          "base_uri": "https://localhost:8080/"
        },
        "outputId": "44c7f49e-c34f-409f-a788-4f54a71197ac"
      },
      "execution_count": 40,
      "outputs": [
        {
          "output_type": "stream",
          "name": "stdout",
          "text": [
            "<class 'pandas.core.frame.DataFrame'>\n",
            "RangeIndex: 3116945 entries, 0 to 3116944\n",
            "Data columns (total 14 columns):\n",
            " #   Column                Dtype  \n",
            "---  ------                -----  \n",
            " 0   cap-diameter          float64\n",
            " 1   cap-shape             object \n",
            " 2   cap-surface           object \n",
            " 3   cap-color             object \n",
            " 4   does-bruise-or-bleed  object \n",
            " 5   gill-attachment       object \n",
            " 6   gill-color            object \n",
            " 7   stem-height           float64\n",
            " 8   stem-width            float64\n",
            " 9   stem-color            object \n",
            " 10  has-ring              object \n",
            " 11  ring-type             object \n",
            " 12  habitat               object \n",
            " 13  season                object \n",
            "dtypes: float64(3), object(11)\n",
            "memory usage: 332.9+ MB\n"
          ]
        }
      ]
    },
    {
      "cell_type": "code",
      "source": [
        "num_cols1 = ['cap-diameter' , 'stem-width' , 'stem-height']\n",
        "cat_cols1 = ['cap-color','does-bruise-or-bleed', 'season', 'habitat', 'cap-shape', 'gill-color', 'stem-color', 'has-ring', 'ring-type']\n",
        "cat_cols2 = ['cap-surface' , 'gill-attachment']"
      ],
      "metadata": {
        "id": "JMdyEFJwlClc"
      },
      "execution_count": 41,
      "outputs": []
    },
    {
      "cell_type": "code",
      "source": [
        "final_transformer = ColumnTransformer(transformers =\n",
        "                                      [\n",
        "                                          ('num' , numerical_pipeline , num_cols1),\n",
        "                                          ('cat1',categorical_pipeline1, cat_cols1),\n",
        "                                          ('cat2' , categorical_pipeline2 , cat_cols2)\n",
        "\n",
        "\n",
        "\n",
        "                                      ] , remainder = 'passthrough')\n",
        "\n",
        "final_transformer"
      ],
      "metadata": {
        "id": "WKw6cIDxmgYv",
        "colab": {
          "base_uri": "https://localhost:8080/",
          "height": 151
        },
        "outputId": "5261c1fe-e204-45f4-e4f5-11d44f812155"
      },
      "execution_count": 42,
      "outputs": [
        {
          "output_type": "execute_result",
          "data": {
            "text/plain": [
              "ColumnTransformer(remainder='passthrough',\n",
              "                  transformers=[('num',\n",
              "                                 Pipeline(steps=[('imputer', SimpleImputer()),\n",
              "                                                 ('scaler', StandardScaler())]),\n",
              "                                 ['cap-diameter', 'stem-width', 'stem-height']),\n",
              "                                ('cat1',\n",
              "                                 Pipeline(steps=[('imputer',\n",
              "                                                  SimpleImputer(strategy='most_frequent')),\n",
              "                                                 ('encoder',\n",
              "                                                  OneHotEncoder(drop='first',\n",
              "                                                                handle_unknown='ignore',\n",
              "                                                                sparse_output=False))]),\n",
              "                                 ['cap-color', 'does-bruise-or-bleed', 'season',\n",
              "                                  'habitat', 'cap-shape', 'gill-color',\n",
              "                                  'stem-color', 'has-ring', 'ring-type']),\n",
              "                                ('cat2',\n",
              "                                 Pipeline(steps=[('imputer',\n",
              "                                                  SimpleImputer(fill_value='missing',\n",
              "                                                                strategy='constant')),\n",
              "                                                 ('encoder',\n",
              "                                                  OneHotEncoder(drop='first',\n",
              "                                                                handle_unknown='ignore',\n",
              "                                                                sparse_output=False))]),\n",
              "                                 ['cap-surface', 'gill-attachment'])])"
            ],
            "text/html": [
              "<style>#sk-container-id-1 {color: black;}#sk-container-id-1 pre{padding: 0;}#sk-container-id-1 div.sk-toggleable {background-color: white;}#sk-container-id-1 label.sk-toggleable__label {cursor: pointer;display: block;width: 100%;margin-bottom: 0;padding: 0.3em;box-sizing: border-box;text-align: center;}#sk-container-id-1 label.sk-toggleable__label-arrow:before {content: \"▸\";float: left;margin-right: 0.25em;color: #696969;}#sk-container-id-1 label.sk-toggleable__label-arrow:hover:before {color: black;}#sk-container-id-1 div.sk-estimator:hover label.sk-toggleable__label-arrow:before {color: black;}#sk-container-id-1 div.sk-toggleable__content {max-height: 0;max-width: 0;overflow: hidden;text-align: left;background-color: #f0f8ff;}#sk-container-id-1 div.sk-toggleable__content pre {margin: 0.2em;color: black;border-radius: 0.25em;background-color: #f0f8ff;}#sk-container-id-1 input.sk-toggleable__control:checked~div.sk-toggleable__content {max-height: 200px;max-width: 100%;overflow: auto;}#sk-container-id-1 input.sk-toggleable__control:checked~label.sk-toggleable__label-arrow:before {content: \"▾\";}#sk-container-id-1 div.sk-estimator input.sk-toggleable__control:checked~label.sk-toggleable__label {background-color: #d4ebff;}#sk-container-id-1 div.sk-label input.sk-toggleable__control:checked~label.sk-toggleable__label {background-color: #d4ebff;}#sk-container-id-1 input.sk-hidden--visually {border: 0;clip: rect(1px 1px 1px 1px);clip: rect(1px, 1px, 1px, 1px);height: 1px;margin: -1px;overflow: hidden;padding: 0;position: absolute;width: 1px;}#sk-container-id-1 div.sk-estimator {font-family: monospace;background-color: #f0f8ff;border: 1px dotted black;border-radius: 0.25em;box-sizing: border-box;margin-bottom: 0.5em;}#sk-container-id-1 div.sk-estimator:hover {background-color: #d4ebff;}#sk-container-id-1 div.sk-parallel-item::after {content: \"\";width: 100%;border-bottom: 1px solid gray;flex-grow: 1;}#sk-container-id-1 div.sk-label:hover label.sk-toggleable__label {background-color: #d4ebff;}#sk-container-id-1 div.sk-serial::before {content: \"\";position: absolute;border-left: 1px solid gray;box-sizing: border-box;top: 0;bottom: 0;left: 50%;z-index: 0;}#sk-container-id-1 div.sk-serial {display: flex;flex-direction: column;align-items: center;background-color: white;padding-right: 0.2em;padding-left: 0.2em;position: relative;}#sk-container-id-1 div.sk-item {position: relative;z-index: 1;}#sk-container-id-1 div.sk-parallel {display: flex;align-items: stretch;justify-content: center;background-color: white;position: relative;}#sk-container-id-1 div.sk-item::before, #sk-container-id-1 div.sk-parallel-item::before {content: \"\";position: absolute;border-left: 1px solid gray;box-sizing: border-box;top: 0;bottom: 0;left: 50%;z-index: -1;}#sk-container-id-1 div.sk-parallel-item {display: flex;flex-direction: column;z-index: 1;position: relative;background-color: white;}#sk-container-id-1 div.sk-parallel-item:first-child::after {align-self: flex-end;width: 50%;}#sk-container-id-1 div.sk-parallel-item:last-child::after {align-self: flex-start;width: 50%;}#sk-container-id-1 div.sk-parallel-item:only-child::after {width: 0;}#sk-container-id-1 div.sk-dashed-wrapped {border: 1px dashed gray;margin: 0 0.4em 0.5em 0.4em;box-sizing: border-box;padding-bottom: 0.4em;background-color: white;}#sk-container-id-1 div.sk-label label {font-family: monospace;font-weight: bold;display: inline-block;line-height: 1.2em;}#sk-container-id-1 div.sk-label-container {text-align: center;}#sk-container-id-1 div.sk-container {/* jupyter's `normalize.less` sets `[hidden] { display: none; }` but bootstrap.min.css set `[hidden] { display: none !important; }` so we also need the `!important` here to be able to override the default hidden behavior on the sphinx rendered scikit-learn.org. See: https://github.com/scikit-learn/scikit-learn/issues/21755 */display: inline-block !important;position: relative;}#sk-container-id-1 div.sk-text-repr-fallback {display: none;}</style><div id=\"sk-container-id-1\" class=\"sk-top-container\"><div class=\"sk-text-repr-fallback\"><pre>ColumnTransformer(remainder=&#x27;passthrough&#x27;,\n",
              "                  transformers=[(&#x27;num&#x27;,\n",
              "                                 Pipeline(steps=[(&#x27;imputer&#x27;, SimpleImputer()),\n",
              "                                                 (&#x27;scaler&#x27;, StandardScaler())]),\n",
              "                                 [&#x27;cap-diameter&#x27;, &#x27;stem-width&#x27;, &#x27;stem-height&#x27;]),\n",
              "                                (&#x27;cat1&#x27;,\n",
              "                                 Pipeline(steps=[(&#x27;imputer&#x27;,\n",
              "                                                  SimpleImputer(strategy=&#x27;most_frequent&#x27;)),\n",
              "                                                 (&#x27;encoder&#x27;,\n",
              "                                                  OneHotEncoder(drop=&#x27;first&#x27;,\n",
              "                                                                handle_unknown=&#x27;ignore&#x27;,\n",
              "                                                                sparse_output=False))]),\n",
              "                                 [&#x27;cap-color&#x27;, &#x27;does-bruise-or-bleed&#x27;, &#x27;season&#x27;,\n",
              "                                  &#x27;habitat&#x27;, &#x27;cap-shape&#x27;, &#x27;gill-color&#x27;,\n",
              "                                  &#x27;stem-color&#x27;, &#x27;has-ring&#x27;, &#x27;ring-type&#x27;]),\n",
              "                                (&#x27;cat2&#x27;,\n",
              "                                 Pipeline(steps=[(&#x27;imputer&#x27;,\n",
              "                                                  SimpleImputer(fill_value=&#x27;missing&#x27;,\n",
              "                                                                strategy=&#x27;constant&#x27;)),\n",
              "                                                 (&#x27;encoder&#x27;,\n",
              "                                                  OneHotEncoder(drop=&#x27;first&#x27;,\n",
              "                                                                handle_unknown=&#x27;ignore&#x27;,\n",
              "                                                                sparse_output=False))]),\n",
              "                                 [&#x27;cap-surface&#x27;, &#x27;gill-attachment&#x27;])])</pre><b>In a Jupyter environment, please rerun this cell to show the HTML representation or trust the notebook. <br />On GitHub, the HTML representation is unable to render, please try loading this page with nbviewer.org.</b></div><div class=\"sk-container\" hidden><div class=\"sk-item sk-dashed-wrapped\"><div class=\"sk-label-container\"><div class=\"sk-label sk-toggleable\"><input class=\"sk-toggleable__control sk-hidden--visually\" id=\"sk-estimator-id-1\" type=\"checkbox\" ><label for=\"sk-estimator-id-1\" class=\"sk-toggleable__label sk-toggleable__label-arrow\">ColumnTransformer</label><div class=\"sk-toggleable__content\"><pre>ColumnTransformer(remainder=&#x27;passthrough&#x27;,\n",
              "                  transformers=[(&#x27;num&#x27;,\n",
              "                                 Pipeline(steps=[(&#x27;imputer&#x27;, SimpleImputer()),\n",
              "                                                 (&#x27;scaler&#x27;, StandardScaler())]),\n",
              "                                 [&#x27;cap-diameter&#x27;, &#x27;stem-width&#x27;, &#x27;stem-height&#x27;]),\n",
              "                                (&#x27;cat1&#x27;,\n",
              "                                 Pipeline(steps=[(&#x27;imputer&#x27;,\n",
              "                                                  SimpleImputer(strategy=&#x27;most_frequent&#x27;)),\n",
              "                                                 (&#x27;encoder&#x27;,\n",
              "                                                  OneHotEncoder(drop=&#x27;first&#x27;,\n",
              "                                                                handle_unknown=&#x27;ignore&#x27;,\n",
              "                                                                sparse_output=False))]),\n",
              "                                 [&#x27;cap-color&#x27;, &#x27;does-bruise-or-bleed&#x27;, &#x27;season&#x27;,\n",
              "                                  &#x27;habitat&#x27;, &#x27;cap-shape&#x27;, &#x27;gill-color&#x27;,\n",
              "                                  &#x27;stem-color&#x27;, &#x27;has-ring&#x27;, &#x27;ring-type&#x27;]),\n",
              "                                (&#x27;cat2&#x27;,\n",
              "                                 Pipeline(steps=[(&#x27;imputer&#x27;,\n",
              "                                                  SimpleImputer(fill_value=&#x27;missing&#x27;,\n",
              "                                                                strategy=&#x27;constant&#x27;)),\n",
              "                                                 (&#x27;encoder&#x27;,\n",
              "                                                  OneHotEncoder(drop=&#x27;first&#x27;,\n",
              "                                                                handle_unknown=&#x27;ignore&#x27;,\n",
              "                                                                sparse_output=False))]),\n",
              "                                 [&#x27;cap-surface&#x27;, &#x27;gill-attachment&#x27;])])</pre></div></div></div><div class=\"sk-parallel\"><div class=\"sk-parallel-item\"><div class=\"sk-item\"><div class=\"sk-label-container\"><div class=\"sk-label sk-toggleable\"><input class=\"sk-toggleable__control sk-hidden--visually\" id=\"sk-estimator-id-2\" type=\"checkbox\" ><label for=\"sk-estimator-id-2\" class=\"sk-toggleable__label sk-toggleable__label-arrow\">num</label><div class=\"sk-toggleable__content\"><pre>[&#x27;cap-diameter&#x27;, &#x27;stem-width&#x27;, &#x27;stem-height&#x27;]</pre></div></div></div><div class=\"sk-serial\"><div class=\"sk-item\"><div class=\"sk-serial\"><div class=\"sk-item\"><div class=\"sk-estimator sk-toggleable\"><input class=\"sk-toggleable__control sk-hidden--visually\" id=\"sk-estimator-id-3\" type=\"checkbox\" ><label for=\"sk-estimator-id-3\" class=\"sk-toggleable__label sk-toggleable__label-arrow\">SimpleImputer</label><div class=\"sk-toggleable__content\"><pre>SimpleImputer()</pre></div></div></div><div class=\"sk-item\"><div class=\"sk-estimator sk-toggleable\"><input class=\"sk-toggleable__control sk-hidden--visually\" id=\"sk-estimator-id-4\" type=\"checkbox\" ><label for=\"sk-estimator-id-4\" class=\"sk-toggleable__label sk-toggleable__label-arrow\">StandardScaler</label><div class=\"sk-toggleable__content\"><pre>StandardScaler()</pre></div></div></div></div></div></div></div></div><div class=\"sk-parallel-item\"><div class=\"sk-item\"><div class=\"sk-label-container\"><div class=\"sk-label sk-toggleable\"><input class=\"sk-toggleable__control sk-hidden--visually\" id=\"sk-estimator-id-5\" type=\"checkbox\" ><label for=\"sk-estimator-id-5\" class=\"sk-toggleable__label sk-toggleable__label-arrow\">cat1</label><div class=\"sk-toggleable__content\"><pre>[&#x27;cap-color&#x27;, &#x27;does-bruise-or-bleed&#x27;, &#x27;season&#x27;, &#x27;habitat&#x27;, &#x27;cap-shape&#x27;, &#x27;gill-color&#x27;, &#x27;stem-color&#x27;, &#x27;has-ring&#x27;, &#x27;ring-type&#x27;]</pre></div></div></div><div class=\"sk-serial\"><div class=\"sk-item\"><div class=\"sk-serial\"><div class=\"sk-item\"><div class=\"sk-estimator sk-toggleable\"><input class=\"sk-toggleable__control sk-hidden--visually\" id=\"sk-estimator-id-6\" type=\"checkbox\" ><label for=\"sk-estimator-id-6\" class=\"sk-toggleable__label sk-toggleable__label-arrow\">SimpleImputer</label><div class=\"sk-toggleable__content\"><pre>SimpleImputer(strategy=&#x27;most_frequent&#x27;)</pre></div></div></div><div class=\"sk-item\"><div class=\"sk-estimator sk-toggleable\"><input class=\"sk-toggleable__control sk-hidden--visually\" id=\"sk-estimator-id-7\" type=\"checkbox\" ><label for=\"sk-estimator-id-7\" class=\"sk-toggleable__label sk-toggleable__label-arrow\">OneHotEncoder</label><div class=\"sk-toggleable__content\"><pre>OneHotEncoder(drop=&#x27;first&#x27;, handle_unknown=&#x27;ignore&#x27;, sparse_output=False)</pre></div></div></div></div></div></div></div></div><div class=\"sk-parallel-item\"><div class=\"sk-item\"><div class=\"sk-label-container\"><div class=\"sk-label sk-toggleable\"><input class=\"sk-toggleable__control sk-hidden--visually\" id=\"sk-estimator-id-8\" type=\"checkbox\" ><label for=\"sk-estimator-id-8\" class=\"sk-toggleable__label sk-toggleable__label-arrow\">cat2</label><div class=\"sk-toggleable__content\"><pre>[&#x27;cap-surface&#x27;, &#x27;gill-attachment&#x27;]</pre></div></div></div><div class=\"sk-serial\"><div class=\"sk-item\"><div class=\"sk-serial\"><div class=\"sk-item\"><div class=\"sk-estimator sk-toggleable\"><input class=\"sk-toggleable__control sk-hidden--visually\" id=\"sk-estimator-id-9\" type=\"checkbox\" ><label for=\"sk-estimator-id-9\" class=\"sk-toggleable__label sk-toggleable__label-arrow\">SimpleImputer</label><div class=\"sk-toggleable__content\"><pre>SimpleImputer(fill_value=&#x27;missing&#x27;, strategy=&#x27;constant&#x27;)</pre></div></div></div><div class=\"sk-item\"><div class=\"sk-estimator sk-toggleable\"><input class=\"sk-toggleable__control sk-hidden--visually\" id=\"sk-estimator-id-10\" type=\"checkbox\" ><label for=\"sk-estimator-id-10\" class=\"sk-toggleable__label sk-toggleable__label-arrow\">OneHotEncoder</label><div class=\"sk-toggleable__content\"><pre>OneHotEncoder(drop=&#x27;first&#x27;, handle_unknown=&#x27;ignore&#x27;, sparse_output=False)</pre></div></div></div></div></div></div></div></div><div class=\"sk-parallel-item\"><div class=\"sk-item\"><div class=\"sk-label-container\"><div class=\"sk-label sk-toggleable\"><input class=\"sk-toggleable__control sk-hidden--visually\" id=\"sk-estimator-id-11\" type=\"checkbox\" ><label for=\"sk-estimator-id-11\" class=\"sk-toggleable__label sk-toggleable__label-arrow\">remainder</label><div class=\"sk-toggleable__content\"><pre></pre></div></div></div><div class=\"sk-serial\"><div class=\"sk-item\"><div class=\"sk-estimator sk-toggleable\"><input class=\"sk-toggleable__control sk-hidden--visually\" id=\"sk-estimator-id-12\" type=\"checkbox\" ><label for=\"sk-estimator-id-12\" class=\"sk-toggleable__label sk-toggleable__label-arrow\">passthrough</label><div class=\"sk-toggleable__content\"><pre>passthrough</pre></div></div></div></div></div></div></div></div></div></div>"
            ]
          },
          "metadata": {},
          "execution_count": 42
        }
      ]
    },
    {
      "cell_type": "code",
      "source": [
        "rf = RandomForestClassifier()\n",
        "param_grid = [\n",
        "    {\n",
        "        'n_estimators' : [50,100,200],\n",
        "        'max_depth' : [None , 5, 50 , 200],\n",
        "        'min_samples_split' : [2,5,10]\n",
        "    }\n",
        "]"
      ],
      "metadata": {
        "id": "NHKM682fnLIW"
      },
      "execution_count": 43,
      "outputs": []
    },
    {
      "cell_type": "code",
      "source": [
        "grid_search = GridSearchCV(rf , param_grid , cv = 3 , scoring = 'accuracy')"
      ],
      "metadata": {
        "id": "e64TU_r7EUw-"
      },
      "execution_count": 44,
      "outputs": []
    },
    {
      "cell_type": "code",
      "source": [
        "pipe = Pipeline(steps = [\n",
        "    ('final_transformer' , final_transformer),\n",
        "    ('rf' , RandomForestClassifier(max_depth = None , n_estimators = 200 , min_samples_split = 5 ))\n",
        "])\n",
        "\n",
        "pipe"
      ],
      "metadata": {
        "id": "p1PQhukUH_uR",
        "colab": {
          "base_uri": "https://localhost:8080/",
          "height": 225
        },
        "outputId": "d21e69c2-c73f-46d6-d97b-872a4502f3cc"
      },
      "execution_count": 45,
      "outputs": [
        {
          "output_type": "execute_result",
          "data": {
            "text/plain": [
              "Pipeline(steps=[('final_transformer',\n",
              "                 ColumnTransformer(remainder='passthrough',\n",
              "                                   transformers=[('num',\n",
              "                                                  Pipeline(steps=[('imputer',\n",
              "                                                                   SimpleImputer()),\n",
              "                                                                  ('scaler',\n",
              "                                                                   StandardScaler())]),\n",
              "                                                  ['cap-diameter', 'stem-width',\n",
              "                                                   'stem-height']),\n",
              "                                                 ('cat1',\n",
              "                                                  Pipeline(steps=[('imputer',\n",
              "                                                                   SimpleImputer(strategy='most_frequent')),\n",
              "                                                                  ('encoder',\n",
              "                                                                   OneHotEncoder(drop='first',\n",
              "                                                                                 handle_unknown='i...\n",
              "                                                   'season', 'habitat',\n",
              "                                                   'cap-shape', 'gill-color',\n",
              "                                                   'stem-color', 'has-ring',\n",
              "                                                   'ring-type']),\n",
              "                                                 ('cat2',\n",
              "                                                  Pipeline(steps=[('imputer',\n",
              "                                                                   SimpleImputer(fill_value='missing',\n",
              "                                                                                 strategy='constant')),\n",
              "                                                                  ('encoder',\n",
              "                                                                   OneHotEncoder(drop='first',\n",
              "                                                                                 handle_unknown='ignore',\n",
              "                                                                                 sparse_output=False))]),\n",
              "                                                  ['cap-surface',\n",
              "                                                   'gill-attachment'])])),\n",
              "                ('rf',\n",
              "                 RandomForestClassifier(min_samples_split=5,\n",
              "                                        n_estimators=200))])"
            ],
            "text/html": [
              "<style>#sk-container-id-2 {color: black;}#sk-container-id-2 pre{padding: 0;}#sk-container-id-2 div.sk-toggleable {background-color: white;}#sk-container-id-2 label.sk-toggleable__label {cursor: pointer;display: block;width: 100%;margin-bottom: 0;padding: 0.3em;box-sizing: border-box;text-align: center;}#sk-container-id-2 label.sk-toggleable__label-arrow:before {content: \"▸\";float: left;margin-right: 0.25em;color: #696969;}#sk-container-id-2 label.sk-toggleable__label-arrow:hover:before {color: black;}#sk-container-id-2 div.sk-estimator:hover label.sk-toggleable__label-arrow:before {color: black;}#sk-container-id-2 div.sk-toggleable__content {max-height: 0;max-width: 0;overflow: hidden;text-align: left;background-color: #f0f8ff;}#sk-container-id-2 div.sk-toggleable__content pre {margin: 0.2em;color: black;border-radius: 0.25em;background-color: #f0f8ff;}#sk-container-id-2 input.sk-toggleable__control:checked~div.sk-toggleable__content {max-height: 200px;max-width: 100%;overflow: auto;}#sk-container-id-2 input.sk-toggleable__control:checked~label.sk-toggleable__label-arrow:before {content: \"▾\";}#sk-container-id-2 div.sk-estimator input.sk-toggleable__control:checked~label.sk-toggleable__label {background-color: #d4ebff;}#sk-container-id-2 div.sk-label input.sk-toggleable__control:checked~label.sk-toggleable__label {background-color: #d4ebff;}#sk-container-id-2 input.sk-hidden--visually {border: 0;clip: rect(1px 1px 1px 1px);clip: rect(1px, 1px, 1px, 1px);height: 1px;margin: -1px;overflow: hidden;padding: 0;position: absolute;width: 1px;}#sk-container-id-2 div.sk-estimator {font-family: monospace;background-color: #f0f8ff;border: 1px dotted black;border-radius: 0.25em;box-sizing: border-box;margin-bottom: 0.5em;}#sk-container-id-2 div.sk-estimator:hover {background-color: #d4ebff;}#sk-container-id-2 div.sk-parallel-item::after {content: \"\";width: 100%;border-bottom: 1px solid gray;flex-grow: 1;}#sk-container-id-2 div.sk-label:hover label.sk-toggleable__label {background-color: #d4ebff;}#sk-container-id-2 div.sk-serial::before {content: \"\";position: absolute;border-left: 1px solid gray;box-sizing: border-box;top: 0;bottom: 0;left: 50%;z-index: 0;}#sk-container-id-2 div.sk-serial {display: flex;flex-direction: column;align-items: center;background-color: white;padding-right: 0.2em;padding-left: 0.2em;position: relative;}#sk-container-id-2 div.sk-item {position: relative;z-index: 1;}#sk-container-id-2 div.sk-parallel {display: flex;align-items: stretch;justify-content: center;background-color: white;position: relative;}#sk-container-id-2 div.sk-item::before, #sk-container-id-2 div.sk-parallel-item::before {content: \"\";position: absolute;border-left: 1px solid gray;box-sizing: border-box;top: 0;bottom: 0;left: 50%;z-index: -1;}#sk-container-id-2 div.sk-parallel-item {display: flex;flex-direction: column;z-index: 1;position: relative;background-color: white;}#sk-container-id-2 div.sk-parallel-item:first-child::after {align-self: flex-end;width: 50%;}#sk-container-id-2 div.sk-parallel-item:last-child::after {align-self: flex-start;width: 50%;}#sk-container-id-2 div.sk-parallel-item:only-child::after {width: 0;}#sk-container-id-2 div.sk-dashed-wrapped {border: 1px dashed gray;margin: 0 0.4em 0.5em 0.4em;box-sizing: border-box;padding-bottom: 0.4em;background-color: white;}#sk-container-id-2 div.sk-label label {font-family: monospace;font-weight: bold;display: inline-block;line-height: 1.2em;}#sk-container-id-2 div.sk-label-container {text-align: center;}#sk-container-id-2 div.sk-container {/* jupyter's `normalize.less` sets `[hidden] { display: none; }` but bootstrap.min.css set `[hidden] { display: none !important; }` so we also need the `!important` here to be able to override the default hidden behavior on the sphinx rendered scikit-learn.org. See: https://github.com/scikit-learn/scikit-learn/issues/21755 */display: inline-block !important;position: relative;}#sk-container-id-2 div.sk-text-repr-fallback {display: none;}</style><div id=\"sk-container-id-2\" class=\"sk-top-container\"><div class=\"sk-text-repr-fallback\"><pre>Pipeline(steps=[(&#x27;final_transformer&#x27;,\n",
              "                 ColumnTransformer(remainder=&#x27;passthrough&#x27;,\n",
              "                                   transformers=[(&#x27;num&#x27;,\n",
              "                                                  Pipeline(steps=[(&#x27;imputer&#x27;,\n",
              "                                                                   SimpleImputer()),\n",
              "                                                                  (&#x27;scaler&#x27;,\n",
              "                                                                   StandardScaler())]),\n",
              "                                                  [&#x27;cap-diameter&#x27;, &#x27;stem-width&#x27;,\n",
              "                                                   &#x27;stem-height&#x27;]),\n",
              "                                                 (&#x27;cat1&#x27;,\n",
              "                                                  Pipeline(steps=[(&#x27;imputer&#x27;,\n",
              "                                                                   SimpleImputer(strategy=&#x27;most_frequent&#x27;)),\n",
              "                                                                  (&#x27;encoder&#x27;,\n",
              "                                                                   OneHotEncoder(drop=&#x27;first&#x27;,\n",
              "                                                                                 handle_unknown=&#x27;i...\n",
              "                                                   &#x27;season&#x27;, &#x27;habitat&#x27;,\n",
              "                                                   &#x27;cap-shape&#x27;, &#x27;gill-color&#x27;,\n",
              "                                                   &#x27;stem-color&#x27;, &#x27;has-ring&#x27;,\n",
              "                                                   &#x27;ring-type&#x27;]),\n",
              "                                                 (&#x27;cat2&#x27;,\n",
              "                                                  Pipeline(steps=[(&#x27;imputer&#x27;,\n",
              "                                                                   SimpleImputer(fill_value=&#x27;missing&#x27;,\n",
              "                                                                                 strategy=&#x27;constant&#x27;)),\n",
              "                                                                  (&#x27;encoder&#x27;,\n",
              "                                                                   OneHotEncoder(drop=&#x27;first&#x27;,\n",
              "                                                                                 handle_unknown=&#x27;ignore&#x27;,\n",
              "                                                                                 sparse_output=False))]),\n",
              "                                                  [&#x27;cap-surface&#x27;,\n",
              "                                                   &#x27;gill-attachment&#x27;])])),\n",
              "                (&#x27;rf&#x27;,\n",
              "                 RandomForestClassifier(min_samples_split=5,\n",
              "                                        n_estimators=200))])</pre><b>In a Jupyter environment, please rerun this cell to show the HTML representation or trust the notebook. <br />On GitHub, the HTML representation is unable to render, please try loading this page with nbviewer.org.</b></div><div class=\"sk-container\" hidden><div class=\"sk-item sk-dashed-wrapped\"><div class=\"sk-label-container\"><div class=\"sk-label sk-toggleable\"><input class=\"sk-toggleable__control sk-hidden--visually\" id=\"sk-estimator-id-13\" type=\"checkbox\" ><label for=\"sk-estimator-id-13\" class=\"sk-toggleable__label sk-toggleable__label-arrow\">Pipeline</label><div class=\"sk-toggleable__content\"><pre>Pipeline(steps=[(&#x27;final_transformer&#x27;,\n",
              "                 ColumnTransformer(remainder=&#x27;passthrough&#x27;,\n",
              "                                   transformers=[(&#x27;num&#x27;,\n",
              "                                                  Pipeline(steps=[(&#x27;imputer&#x27;,\n",
              "                                                                   SimpleImputer()),\n",
              "                                                                  (&#x27;scaler&#x27;,\n",
              "                                                                   StandardScaler())]),\n",
              "                                                  [&#x27;cap-diameter&#x27;, &#x27;stem-width&#x27;,\n",
              "                                                   &#x27;stem-height&#x27;]),\n",
              "                                                 (&#x27;cat1&#x27;,\n",
              "                                                  Pipeline(steps=[(&#x27;imputer&#x27;,\n",
              "                                                                   SimpleImputer(strategy=&#x27;most_frequent&#x27;)),\n",
              "                                                                  (&#x27;encoder&#x27;,\n",
              "                                                                   OneHotEncoder(drop=&#x27;first&#x27;,\n",
              "                                                                                 handle_unknown=&#x27;i...\n",
              "                                                   &#x27;season&#x27;, &#x27;habitat&#x27;,\n",
              "                                                   &#x27;cap-shape&#x27;, &#x27;gill-color&#x27;,\n",
              "                                                   &#x27;stem-color&#x27;, &#x27;has-ring&#x27;,\n",
              "                                                   &#x27;ring-type&#x27;]),\n",
              "                                                 (&#x27;cat2&#x27;,\n",
              "                                                  Pipeline(steps=[(&#x27;imputer&#x27;,\n",
              "                                                                   SimpleImputer(fill_value=&#x27;missing&#x27;,\n",
              "                                                                                 strategy=&#x27;constant&#x27;)),\n",
              "                                                                  (&#x27;encoder&#x27;,\n",
              "                                                                   OneHotEncoder(drop=&#x27;first&#x27;,\n",
              "                                                                                 handle_unknown=&#x27;ignore&#x27;,\n",
              "                                                                                 sparse_output=False))]),\n",
              "                                                  [&#x27;cap-surface&#x27;,\n",
              "                                                   &#x27;gill-attachment&#x27;])])),\n",
              "                (&#x27;rf&#x27;,\n",
              "                 RandomForestClassifier(min_samples_split=5,\n",
              "                                        n_estimators=200))])</pre></div></div></div><div class=\"sk-serial\"><div class=\"sk-item sk-dashed-wrapped\"><div class=\"sk-label-container\"><div class=\"sk-label sk-toggleable\"><input class=\"sk-toggleable__control sk-hidden--visually\" id=\"sk-estimator-id-14\" type=\"checkbox\" ><label for=\"sk-estimator-id-14\" class=\"sk-toggleable__label sk-toggleable__label-arrow\">final_transformer: ColumnTransformer</label><div class=\"sk-toggleable__content\"><pre>ColumnTransformer(remainder=&#x27;passthrough&#x27;,\n",
              "                  transformers=[(&#x27;num&#x27;,\n",
              "                                 Pipeline(steps=[(&#x27;imputer&#x27;, SimpleImputer()),\n",
              "                                                 (&#x27;scaler&#x27;, StandardScaler())]),\n",
              "                                 [&#x27;cap-diameter&#x27;, &#x27;stem-width&#x27;, &#x27;stem-height&#x27;]),\n",
              "                                (&#x27;cat1&#x27;,\n",
              "                                 Pipeline(steps=[(&#x27;imputer&#x27;,\n",
              "                                                  SimpleImputer(strategy=&#x27;most_frequent&#x27;)),\n",
              "                                                 (&#x27;encoder&#x27;,\n",
              "                                                  OneHotEncoder(drop=&#x27;first&#x27;,\n",
              "                                                                handle_unknown=&#x27;ignore&#x27;,\n",
              "                                                                sparse_output=False))]),\n",
              "                                 [&#x27;cap-color&#x27;, &#x27;does-bruise-or-bleed&#x27;, &#x27;season&#x27;,\n",
              "                                  &#x27;habitat&#x27;, &#x27;cap-shape&#x27;, &#x27;gill-color&#x27;,\n",
              "                                  &#x27;stem-color&#x27;, &#x27;has-ring&#x27;, &#x27;ring-type&#x27;]),\n",
              "                                (&#x27;cat2&#x27;,\n",
              "                                 Pipeline(steps=[(&#x27;imputer&#x27;,\n",
              "                                                  SimpleImputer(fill_value=&#x27;missing&#x27;,\n",
              "                                                                strategy=&#x27;constant&#x27;)),\n",
              "                                                 (&#x27;encoder&#x27;,\n",
              "                                                  OneHotEncoder(drop=&#x27;first&#x27;,\n",
              "                                                                handle_unknown=&#x27;ignore&#x27;,\n",
              "                                                                sparse_output=False))]),\n",
              "                                 [&#x27;cap-surface&#x27;, &#x27;gill-attachment&#x27;])])</pre></div></div></div><div class=\"sk-parallel\"><div class=\"sk-parallel-item\"><div class=\"sk-item\"><div class=\"sk-label-container\"><div class=\"sk-label sk-toggleable\"><input class=\"sk-toggleable__control sk-hidden--visually\" id=\"sk-estimator-id-15\" type=\"checkbox\" ><label for=\"sk-estimator-id-15\" class=\"sk-toggleable__label sk-toggleable__label-arrow\">num</label><div class=\"sk-toggleable__content\"><pre>[&#x27;cap-diameter&#x27;, &#x27;stem-width&#x27;, &#x27;stem-height&#x27;]</pre></div></div></div><div class=\"sk-serial\"><div class=\"sk-item\"><div class=\"sk-serial\"><div class=\"sk-item\"><div class=\"sk-estimator sk-toggleable\"><input class=\"sk-toggleable__control sk-hidden--visually\" id=\"sk-estimator-id-16\" type=\"checkbox\" ><label for=\"sk-estimator-id-16\" class=\"sk-toggleable__label sk-toggleable__label-arrow\">SimpleImputer</label><div class=\"sk-toggleable__content\"><pre>SimpleImputer()</pre></div></div></div><div class=\"sk-item\"><div class=\"sk-estimator sk-toggleable\"><input class=\"sk-toggleable__control sk-hidden--visually\" id=\"sk-estimator-id-17\" type=\"checkbox\" ><label for=\"sk-estimator-id-17\" class=\"sk-toggleable__label sk-toggleable__label-arrow\">StandardScaler</label><div class=\"sk-toggleable__content\"><pre>StandardScaler()</pre></div></div></div></div></div></div></div></div><div class=\"sk-parallel-item\"><div class=\"sk-item\"><div class=\"sk-label-container\"><div class=\"sk-label sk-toggleable\"><input class=\"sk-toggleable__control sk-hidden--visually\" id=\"sk-estimator-id-18\" type=\"checkbox\" ><label for=\"sk-estimator-id-18\" class=\"sk-toggleable__label sk-toggleable__label-arrow\">cat1</label><div class=\"sk-toggleable__content\"><pre>[&#x27;cap-color&#x27;, &#x27;does-bruise-or-bleed&#x27;, &#x27;season&#x27;, &#x27;habitat&#x27;, &#x27;cap-shape&#x27;, &#x27;gill-color&#x27;, &#x27;stem-color&#x27;, &#x27;has-ring&#x27;, &#x27;ring-type&#x27;]</pre></div></div></div><div class=\"sk-serial\"><div class=\"sk-item\"><div class=\"sk-serial\"><div class=\"sk-item\"><div class=\"sk-estimator sk-toggleable\"><input class=\"sk-toggleable__control sk-hidden--visually\" id=\"sk-estimator-id-19\" type=\"checkbox\" ><label for=\"sk-estimator-id-19\" class=\"sk-toggleable__label sk-toggleable__label-arrow\">SimpleImputer</label><div class=\"sk-toggleable__content\"><pre>SimpleImputer(strategy=&#x27;most_frequent&#x27;)</pre></div></div></div><div class=\"sk-item\"><div class=\"sk-estimator sk-toggleable\"><input class=\"sk-toggleable__control sk-hidden--visually\" id=\"sk-estimator-id-20\" type=\"checkbox\" ><label for=\"sk-estimator-id-20\" class=\"sk-toggleable__label sk-toggleable__label-arrow\">OneHotEncoder</label><div class=\"sk-toggleable__content\"><pre>OneHotEncoder(drop=&#x27;first&#x27;, handle_unknown=&#x27;ignore&#x27;, sparse_output=False)</pre></div></div></div></div></div></div></div></div><div class=\"sk-parallel-item\"><div class=\"sk-item\"><div class=\"sk-label-container\"><div class=\"sk-label sk-toggleable\"><input class=\"sk-toggleable__control sk-hidden--visually\" id=\"sk-estimator-id-21\" type=\"checkbox\" ><label for=\"sk-estimator-id-21\" class=\"sk-toggleable__label sk-toggleable__label-arrow\">cat2</label><div class=\"sk-toggleable__content\"><pre>[&#x27;cap-surface&#x27;, &#x27;gill-attachment&#x27;]</pre></div></div></div><div class=\"sk-serial\"><div class=\"sk-item\"><div class=\"sk-serial\"><div class=\"sk-item\"><div class=\"sk-estimator sk-toggleable\"><input class=\"sk-toggleable__control sk-hidden--visually\" id=\"sk-estimator-id-22\" type=\"checkbox\" ><label for=\"sk-estimator-id-22\" class=\"sk-toggleable__label sk-toggleable__label-arrow\">SimpleImputer</label><div class=\"sk-toggleable__content\"><pre>SimpleImputer(fill_value=&#x27;missing&#x27;, strategy=&#x27;constant&#x27;)</pre></div></div></div><div class=\"sk-item\"><div class=\"sk-estimator sk-toggleable\"><input class=\"sk-toggleable__control sk-hidden--visually\" id=\"sk-estimator-id-23\" type=\"checkbox\" ><label for=\"sk-estimator-id-23\" class=\"sk-toggleable__label sk-toggleable__label-arrow\">OneHotEncoder</label><div class=\"sk-toggleable__content\"><pre>OneHotEncoder(drop=&#x27;first&#x27;, handle_unknown=&#x27;ignore&#x27;, sparse_output=False)</pre></div></div></div></div></div></div></div></div><div class=\"sk-parallel-item\"><div class=\"sk-item\"><div class=\"sk-label-container\"><div class=\"sk-label sk-toggleable\"><input class=\"sk-toggleable__control sk-hidden--visually\" id=\"sk-estimator-id-24\" type=\"checkbox\" ><label for=\"sk-estimator-id-24\" class=\"sk-toggleable__label sk-toggleable__label-arrow\">remainder</label><div class=\"sk-toggleable__content\"><pre></pre></div></div></div><div class=\"sk-serial\"><div class=\"sk-item\"><div class=\"sk-estimator sk-toggleable\"><input class=\"sk-toggleable__control sk-hidden--visually\" id=\"sk-estimator-id-25\" type=\"checkbox\" ><label for=\"sk-estimator-id-25\" class=\"sk-toggleable__label sk-toggleable__label-arrow\">passthrough</label><div class=\"sk-toggleable__content\"><pre>passthrough</pre></div></div></div></div></div></div></div></div><div class=\"sk-item\"><div class=\"sk-estimator sk-toggleable\"><input class=\"sk-toggleable__control sk-hidden--visually\" id=\"sk-estimator-id-26\" type=\"checkbox\" ><label for=\"sk-estimator-id-26\" class=\"sk-toggleable__label sk-toggleable__label-arrow\">RandomForestClassifier</label><div class=\"sk-toggleable__content\"><pre>RandomForestClassifier(min_samples_split=5, n_estimators=200)</pre></div></div></div></div></div></div></div>"
            ]
          },
          "metadata": {},
          "execution_count": 45
        }
      ]
    },
    {
      "cell_type": "code",
      "source": [
        "df['class'] = df['class'].apply(lambda x: 1 if x == 'p' else 0)"
      ],
      "metadata": {
        "collapsed": true,
        "id": "7lJ2R8ydI-kp"
      },
      "execution_count": 46,
      "outputs": []
    },
    {
      "cell_type": "code",
      "source": [
        "temp = df_train.head(50000)"
      ],
      "metadata": {
        "id": "7-P2khsuEoE7"
      },
      "execution_count": 55,
      "outputs": []
    },
    {
      "cell_type": "code",
      "source": [
        "temp_ans = df['class'].head(50000)"
      ],
      "metadata": {
        "id": "BatsNEqRE2mJ"
      },
      "execution_count": 56,
      "outputs": []
    },
    {
      "cell_type": "code",
      "source": [
        "pipe.fit(temp,temp_ans)"
      ],
      "metadata": {
        "id": "cwllTHH0gLtc",
        "colab": {
          "base_uri": "https://localhost:8080/",
          "height": 225
        },
        "outputId": "f21ec626-22fd-4ae1-f003-91b75f40df7a"
      },
      "execution_count": 57,
      "outputs": [
        {
          "output_type": "execute_result",
          "data": {
            "text/plain": [
              "Pipeline(steps=[('final_transformer',\n",
              "                 ColumnTransformer(remainder='passthrough',\n",
              "                                   transformers=[('num',\n",
              "                                                  Pipeline(steps=[('imputer',\n",
              "                                                                   SimpleImputer()),\n",
              "                                                                  ('scaler',\n",
              "                                                                   StandardScaler())]),\n",
              "                                                  ['cap-diameter', 'stem-width',\n",
              "                                                   'stem-height']),\n",
              "                                                 ('cat1',\n",
              "                                                  Pipeline(steps=[('imputer',\n",
              "                                                                   SimpleImputer(strategy='most_frequent')),\n",
              "                                                                  ('encoder',\n",
              "                                                                   OneHotEncoder(drop='first',\n",
              "                                                                                 handle_unknown='i...\n",
              "                                                   'season', 'habitat',\n",
              "                                                   'cap-shape', 'gill-color',\n",
              "                                                   'stem-color', 'has-ring',\n",
              "                                                   'ring-type']),\n",
              "                                                 ('cat2',\n",
              "                                                  Pipeline(steps=[('imputer',\n",
              "                                                                   SimpleImputer(fill_value='missing',\n",
              "                                                                                 strategy='constant')),\n",
              "                                                                  ('encoder',\n",
              "                                                                   OneHotEncoder(drop='first',\n",
              "                                                                                 handle_unknown='ignore',\n",
              "                                                                                 sparse_output=False))]),\n",
              "                                                  ['cap-surface',\n",
              "                                                   'gill-attachment'])])),\n",
              "                ('rf',\n",
              "                 RandomForestClassifier(min_samples_split=5,\n",
              "                                        n_estimators=200))])"
            ],
            "text/html": [
              "<style>#sk-container-id-4 {color: black;}#sk-container-id-4 pre{padding: 0;}#sk-container-id-4 div.sk-toggleable {background-color: white;}#sk-container-id-4 label.sk-toggleable__label {cursor: pointer;display: block;width: 100%;margin-bottom: 0;padding: 0.3em;box-sizing: border-box;text-align: center;}#sk-container-id-4 label.sk-toggleable__label-arrow:before {content: \"▸\";float: left;margin-right: 0.25em;color: #696969;}#sk-container-id-4 label.sk-toggleable__label-arrow:hover:before {color: black;}#sk-container-id-4 div.sk-estimator:hover label.sk-toggleable__label-arrow:before {color: black;}#sk-container-id-4 div.sk-toggleable__content {max-height: 0;max-width: 0;overflow: hidden;text-align: left;background-color: #f0f8ff;}#sk-container-id-4 div.sk-toggleable__content pre {margin: 0.2em;color: black;border-radius: 0.25em;background-color: #f0f8ff;}#sk-container-id-4 input.sk-toggleable__control:checked~div.sk-toggleable__content {max-height: 200px;max-width: 100%;overflow: auto;}#sk-container-id-4 input.sk-toggleable__control:checked~label.sk-toggleable__label-arrow:before {content: \"▾\";}#sk-container-id-4 div.sk-estimator input.sk-toggleable__control:checked~label.sk-toggleable__label {background-color: #d4ebff;}#sk-container-id-4 div.sk-label input.sk-toggleable__control:checked~label.sk-toggleable__label {background-color: #d4ebff;}#sk-container-id-4 input.sk-hidden--visually {border: 0;clip: rect(1px 1px 1px 1px);clip: rect(1px, 1px, 1px, 1px);height: 1px;margin: -1px;overflow: hidden;padding: 0;position: absolute;width: 1px;}#sk-container-id-4 div.sk-estimator {font-family: monospace;background-color: #f0f8ff;border: 1px dotted black;border-radius: 0.25em;box-sizing: border-box;margin-bottom: 0.5em;}#sk-container-id-4 div.sk-estimator:hover {background-color: #d4ebff;}#sk-container-id-4 div.sk-parallel-item::after {content: \"\";width: 100%;border-bottom: 1px solid gray;flex-grow: 1;}#sk-container-id-4 div.sk-label:hover label.sk-toggleable__label {background-color: #d4ebff;}#sk-container-id-4 div.sk-serial::before {content: \"\";position: absolute;border-left: 1px solid gray;box-sizing: border-box;top: 0;bottom: 0;left: 50%;z-index: 0;}#sk-container-id-4 div.sk-serial {display: flex;flex-direction: column;align-items: center;background-color: white;padding-right: 0.2em;padding-left: 0.2em;position: relative;}#sk-container-id-4 div.sk-item {position: relative;z-index: 1;}#sk-container-id-4 div.sk-parallel {display: flex;align-items: stretch;justify-content: center;background-color: white;position: relative;}#sk-container-id-4 div.sk-item::before, #sk-container-id-4 div.sk-parallel-item::before {content: \"\";position: absolute;border-left: 1px solid gray;box-sizing: border-box;top: 0;bottom: 0;left: 50%;z-index: -1;}#sk-container-id-4 div.sk-parallel-item {display: flex;flex-direction: column;z-index: 1;position: relative;background-color: white;}#sk-container-id-4 div.sk-parallel-item:first-child::after {align-self: flex-end;width: 50%;}#sk-container-id-4 div.sk-parallel-item:last-child::after {align-self: flex-start;width: 50%;}#sk-container-id-4 div.sk-parallel-item:only-child::after {width: 0;}#sk-container-id-4 div.sk-dashed-wrapped {border: 1px dashed gray;margin: 0 0.4em 0.5em 0.4em;box-sizing: border-box;padding-bottom: 0.4em;background-color: white;}#sk-container-id-4 div.sk-label label {font-family: monospace;font-weight: bold;display: inline-block;line-height: 1.2em;}#sk-container-id-4 div.sk-label-container {text-align: center;}#sk-container-id-4 div.sk-container {/* jupyter's `normalize.less` sets `[hidden] { display: none; }` but bootstrap.min.css set `[hidden] { display: none !important; }` so we also need the `!important` here to be able to override the default hidden behavior on the sphinx rendered scikit-learn.org. See: https://github.com/scikit-learn/scikit-learn/issues/21755 */display: inline-block !important;position: relative;}#sk-container-id-4 div.sk-text-repr-fallback {display: none;}</style><div id=\"sk-container-id-4\" class=\"sk-top-container\"><div class=\"sk-text-repr-fallback\"><pre>Pipeline(steps=[(&#x27;final_transformer&#x27;,\n",
              "                 ColumnTransformer(remainder=&#x27;passthrough&#x27;,\n",
              "                                   transformers=[(&#x27;num&#x27;,\n",
              "                                                  Pipeline(steps=[(&#x27;imputer&#x27;,\n",
              "                                                                   SimpleImputer()),\n",
              "                                                                  (&#x27;scaler&#x27;,\n",
              "                                                                   StandardScaler())]),\n",
              "                                                  [&#x27;cap-diameter&#x27;, &#x27;stem-width&#x27;,\n",
              "                                                   &#x27;stem-height&#x27;]),\n",
              "                                                 (&#x27;cat1&#x27;,\n",
              "                                                  Pipeline(steps=[(&#x27;imputer&#x27;,\n",
              "                                                                   SimpleImputer(strategy=&#x27;most_frequent&#x27;)),\n",
              "                                                                  (&#x27;encoder&#x27;,\n",
              "                                                                   OneHotEncoder(drop=&#x27;first&#x27;,\n",
              "                                                                                 handle_unknown=&#x27;i...\n",
              "                                                   &#x27;season&#x27;, &#x27;habitat&#x27;,\n",
              "                                                   &#x27;cap-shape&#x27;, &#x27;gill-color&#x27;,\n",
              "                                                   &#x27;stem-color&#x27;, &#x27;has-ring&#x27;,\n",
              "                                                   &#x27;ring-type&#x27;]),\n",
              "                                                 (&#x27;cat2&#x27;,\n",
              "                                                  Pipeline(steps=[(&#x27;imputer&#x27;,\n",
              "                                                                   SimpleImputer(fill_value=&#x27;missing&#x27;,\n",
              "                                                                                 strategy=&#x27;constant&#x27;)),\n",
              "                                                                  (&#x27;encoder&#x27;,\n",
              "                                                                   OneHotEncoder(drop=&#x27;first&#x27;,\n",
              "                                                                                 handle_unknown=&#x27;ignore&#x27;,\n",
              "                                                                                 sparse_output=False))]),\n",
              "                                                  [&#x27;cap-surface&#x27;,\n",
              "                                                   &#x27;gill-attachment&#x27;])])),\n",
              "                (&#x27;rf&#x27;,\n",
              "                 RandomForestClassifier(min_samples_split=5,\n",
              "                                        n_estimators=200))])</pre><b>In a Jupyter environment, please rerun this cell to show the HTML representation or trust the notebook. <br />On GitHub, the HTML representation is unable to render, please try loading this page with nbviewer.org.</b></div><div class=\"sk-container\" hidden><div class=\"sk-item sk-dashed-wrapped\"><div class=\"sk-label-container\"><div class=\"sk-label sk-toggleable\"><input class=\"sk-toggleable__control sk-hidden--visually\" id=\"sk-estimator-id-41\" type=\"checkbox\" ><label for=\"sk-estimator-id-41\" class=\"sk-toggleable__label sk-toggleable__label-arrow\">Pipeline</label><div class=\"sk-toggleable__content\"><pre>Pipeline(steps=[(&#x27;final_transformer&#x27;,\n",
              "                 ColumnTransformer(remainder=&#x27;passthrough&#x27;,\n",
              "                                   transformers=[(&#x27;num&#x27;,\n",
              "                                                  Pipeline(steps=[(&#x27;imputer&#x27;,\n",
              "                                                                   SimpleImputer()),\n",
              "                                                                  (&#x27;scaler&#x27;,\n",
              "                                                                   StandardScaler())]),\n",
              "                                                  [&#x27;cap-diameter&#x27;, &#x27;stem-width&#x27;,\n",
              "                                                   &#x27;stem-height&#x27;]),\n",
              "                                                 (&#x27;cat1&#x27;,\n",
              "                                                  Pipeline(steps=[(&#x27;imputer&#x27;,\n",
              "                                                                   SimpleImputer(strategy=&#x27;most_frequent&#x27;)),\n",
              "                                                                  (&#x27;encoder&#x27;,\n",
              "                                                                   OneHotEncoder(drop=&#x27;first&#x27;,\n",
              "                                                                                 handle_unknown=&#x27;i...\n",
              "                                                   &#x27;season&#x27;, &#x27;habitat&#x27;,\n",
              "                                                   &#x27;cap-shape&#x27;, &#x27;gill-color&#x27;,\n",
              "                                                   &#x27;stem-color&#x27;, &#x27;has-ring&#x27;,\n",
              "                                                   &#x27;ring-type&#x27;]),\n",
              "                                                 (&#x27;cat2&#x27;,\n",
              "                                                  Pipeline(steps=[(&#x27;imputer&#x27;,\n",
              "                                                                   SimpleImputer(fill_value=&#x27;missing&#x27;,\n",
              "                                                                                 strategy=&#x27;constant&#x27;)),\n",
              "                                                                  (&#x27;encoder&#x27;,\n",
              "                                                                   OneHotEncoder(drop=&#x27;first&#x27;,\n",
              "                                                                                 handle_unknown=&#x27;ignore&#x27;,\n",
              "                                                                                 sparse_output=False))]),\n",
              "                                                  [&#x27;cap-surface&#x27;,\n",
              "                                                   &#x27;gill-attachment&#x27;])])),\n",
              "                (&#x27;rf&#x27;,\n",
              "                 RandomForestClassifier(min_samples_split=5,\n",
              "                                        n_estimators=200))])</pre></div></div></div><div class=\"sk-serial\"><div class=\"sk-item sk-dashed-wrapped\"><div class=\"sk-label-container\"><div class=\"sk-label sk-toggleable\"><input class=\"sk-toggleable__control sk-hidden--visually\" id=\"sk-estimator-id-42\" type=\"checkbox\" ><label for=\"sk-estimator-id-42\" class=\"sk-toggleable__label sk-toggleable__label-arrow\">final_transformer: ColumnTransformer</label><div class=\"sk-toggleable__content\"><pre>ColumnTransformer(remainder=&#x27;passthrough&#x27;,\n",
              "                  transformers=[(&#x27;num&#x27;,\n",
              "                                 Pipeline(steps=[(&#x27;imputer&#x27;, SimpleImputer()),\n",
              "                                                 (&#x27;scaler&#x27;, StandardScaler())]),\n",
              "                                 [&#x27;cap-diameter&#x27;, &#x27;stem-width&#x27;, &#x27;stem-height&#x27;]),\n",
              "                                (&#x27;cat1&#x27;,\n",
              "                                 Pipeline(steps=[(&#x27;imputer&#x27;,\n",
              "                                                  SimpleImputer(strategy=&#x27;most_frequent&#x27;)),\n",
              "                                                 (&#x27;encoder&#x27;,\n",
              "                                                  OneHotEncoder(drop=&#x27;first&#x27;,\n",
              "                                                                handle_unknown=&#x27;ignore&#x27;,\n",
              "                                                                sparse_output=False))]),\n",
              "                                 [&#x27;cap-color&#x27;, &#x27;does-bruise-or-bleed&#x27;, &#x27;season&#x27;,\n",
              "                                  &#x27;habitat&#x27;, &#x27;cap-shape&#x27;, &#x27;gill-color&#x27;,\n",
              "                                  &#x27;stem-color&#x27;, &#x27;has-ring&#x27;, &#x27;ring-type&#x27;]),\n",
              "                                (&#x27;cat2&#x27;,\n",
              "                                 Pipeline(steps=[(&#x27;imputer&#x27;,\n",
              "                                                  SimpleImputer(fill_value=&#x27;missing&#x27;,\n",
              "                                                                strategy=&#x27;constant&#x27;)),\n",
              "                                                 (&#x27;encoder&#x27;,\n",
              "                                                  OneHotEncoder(drop=&#x27;first&#x27;,\n",
              "                                                                handle_unknown=&#x27;ignore&#x27;,\n",
              "                                                                sparse_output=False))]),\n",
              "                                 [&#x27;cap-surface&#x27;, &#x27;gill-attachment&#x27;])])</pre></div></div></div><div class=\"sk-parallel\"><div class=\"sk-parallel-item\"><div class=\"sk-item\"><div class=\"sk-label-container\"><div class=\"sk-label sk-toggleable\"><input class=\"sk-toggleable__control sk-hidden--visually\" id=\"sk-estimator-id-43\" type=\"checkbox\" ><label for=\"sk-estimator-id-43\" class=\"sk-toggleable__label sk-toggleable__label-arrow\">num</label><div class=\"sk-toggleable__content\"><pre>[&#x27;cap-diameter&#x27;, &#x27;stem-width&#x27;, &#x27;stem-height&#x27;]</pre></div></div></div><div class=\"sk-serial\"><div class=\"sk-item\"><div class=\"sk-serial\"><div class=\"sk-item\"><div class=\"sk-estimator sk-toggleable\"><input class=\"sk-toggleable__control sk-hidden--visually\" id=\"sk-estimator-id-44\" type=\"checkbox\" ><label for=\"sk-estimator-id-44\" class=\"sk-toggleable__label sk-toggleable__label-arrow\">SimpleImputer</label><div class=\"sk-toggleable__content\"><pre>SimpleImputer()</pre></div></div></div><div class=\"sk-item\"><div class=\"sk-estimator sk-toggleable\"><input class=\"sk-toggleable__control sk-hidden--visually\" id=\"sk-estimator-id-45\" type=\"checkbox\" ><label for=\"sk-estimator-id-45\" class=\"sk-toggleable__label sk-toggleable__label-arrow\">StandardScaler</label><div class=\"sk-toggleable__content\"><pre>StandardScaler()</pre></div></div></div></div></div></div></div></div><div class=\"sk-parallel-item\"><div class=\"sk-item\"><div class=\"sk-label-container\"><div class=\"sk-label sk-toggleable\"><input class=\"sk-toggleable__control sk-hidden--visually\" id=\"sk-estimator-id-46\" type=\"checkbox\" ><label for=\"sk-estimator-id-46\" class=\"sk-toggleable__label sk-toggleable__label-arrow\">cat1</label><div class=\"sk-toggleable__content\"><pre>[&#x27;cap-color&#x27;, &#x27;does-bruise-or-bleed&#x27;, &#x27;season&#x27;, &#x27;habitat&#x27;, &#x27;cap-shape&#x27;, &#x27;gill-color&#x27;, &#x27;stem-color&#x27;, &#x27;has-ring&#x27;, &#x27;ring-type&#x27;]</pre></div></div></div><div class=\"sk-serial\"><div class=\"sk-item\"><div class=\"sk-serial\"><div class=\"sk-item\"><div class=\"sk-estimator sk-toggleable\"><input class=\"sk-toggleable__control sk-hidden--visually\" id=\"sk-estimator-id-47\" type=\"checkbox\" ><label for=\"sk-estimator-id-47\" class=\"sk-toggleable__label sk-toggleable__label-arrow\">SimpleImputer</label><div class=\"sk-toggleable__content\"><pre>SimpleImputer(strategy=&#x27;most_frequent&#x27;)</pre></div></div></div><div class=\"sk-item\"><div class=\"sk-estimator sk-toggleable\"><input class=\"sk-toggleable__control sk-hidden--visually\" id=\"sk-estimator-id-48\" type=\"checkbox\" ><label for=\"sk-estimator-id-48\" class=\"sk-toggleable__label sk-toggleable__label-arrow\">OneHotEncoder</label><div class=\"sk-toggleable__content\"><pre>OneHotEncoder(drop=&#x27;first&#x27;, handle_unknown=&#x27;ignore&#x27;, sparse_output=False)</pre></div></div></div></div></div></div></div></div><div class=\"sk-parallel-item\"><div class=\"sk-item\"><div class=\"sk-label-container\"><div class=\"sk-label sk-toggleable\"><input class=\"sk-toggleable__control sk-hidden--visually\" id=\"sk-estimator-id-49\" type=\"checkbox\" ><label for=\"sk-estimator-id-49\" class=\"sk-toggleable__label sk-toggleable__label-arrow\">cat2</label><div class=\"sk-toggleable__content\"><pre>[&#x27;cap-surface&#x27;, &#x27;gill-attachment&#x27;]</pre></div></div></div><div class=\"sk-serial\"><div class=\"sk-item\"><div class=\"sk-serial\"><div class=\"sk-item\"><div class=\"sk-estimator sk-toggleable\"><input class=\"sk-toggleable__control sk-hidden--visually\" id=\"sk-estimator-id-50\" type=\"checkbox\" ><label for=\"sk-estimator-id-50\" class=\"sk-toggleable__label sk-toggleable__label-arrow\">SimpleImputer</label><div class=\"sk-toggleable__content\"><pre>SimpleImputer(fill_value=&#x27;missing&#x27;, strategy=&#x27;constant&#x27;)</pre></div></div></div><div class=\"sk-item\"><div class=\"sk-estimator sk-toggleable\"><input class=\"sk-toggleable__control sk-hidden--visually\" id=\"sk-estimator-id-51\" type=\"checkbox\" ><label for=\"sk-estimator-id-51\" class=\"sk-toggleable__label sk-toggleable__label-arrow\">OneHotEncoder</label><div class=\"sk-toggleable__content\"><pre>OneHotEncoder(drop=&#x27;first&#x27;, handle_unknown=&#x27;ignore&#x27;, sparse_output=False)</pre></div></div></div></div></div></div></div></div><div class=\"sk-parallel-item\"><div class=\"sk-item\"><div class=\"sk-label-container\"><div class=\"sk-label sk-toggleable\"><input class=\"sk-toggleable__control sk-hidden--visually\" id=\"sk-estimator-id-52\" type=\"checkbox\" ><label for=\"sk-estimator-id-52\" class=\"sk-toggleable__label sk-toggleable__label-arrow\">remainder</label><div class=\"sk-toggleable__content\"><pre>[]</pre></div></div></div><div class=\"sk-serial\"><div class=\"sk-item\"><div class=\"sk-estimator sk-toggleable\"><input class=\"sk-toggleable__control sk-hidden--visually\" id=\"sk-estimator-id-53\" type=\"checkbox\" ><label for=\"sk-estimator-id-53\" class=\"sk-toggleable__label sk-toggleable__label-arrow\">passthrough</label><div class=\"sk-toggleable__content\"><pre>passthrough</pre></div></div></div></div></div></div></div></div><div class=\"sk-item\"><div class=\"sk-estimator sk-toggleable\"><input class=\"sk-toggleable__control sk-hidden--visually\" id=\"sk-estimator-id-54\" type=\"checkbox\" ><label for=\"sk-estimator-id-54\" class=\"sk-toggleable__label sk-toggleable__label-arrow\">RandomForestClassifier</label><div class=\"sk-toggleable__content\"><pre>RandomForestClassifier(min_samples_split=5, n_estimators=200)</pre></div></div></div></div></div></div></div>"
            ]
          },
          "metadata": {},
          "execution_count": 57
        }
      ]
    },
    {
      "cell_type": "code",
      "source": [
        "pipe.score(temp,temp_ans)"
      ],
      "metadata": {
        "colab": {
          "base_uri": "https://localhost:8080/"
        },
        "id": "Um0hovXhmbW3",
        "outputId": "b80687b9-b83c-4e90-ca82-50b7386b5f3f"
      },
      "execution_count": 59,
      "outputs": [
        {
          "output_type": "execute_result",
          "data": {
            "text/plain": [
              "0.99478"
            ]
          },
          "metadata": {},
          "execution_count": 59
        }
      ]
    },
    {
      "cell_type": "code",
      "source": [
        "temp_test = df_train.tail(1000)"
      ],
      "metadata": {
        "id": "4ntZb8JmKWsq"
      },
      "execution_count": 60,
      "outputs": []
    },
    {
      "cell_type": "code",
      "source": [
        "temp_ans = df['class'].tail(1000)"
      ],
      "metadata": {
        "id": "HZ2TDW0EKcCd"
      },
      "execution_count": 61,
      "outputs": []
    },
    {
      "cell_type": "code",
      "source": [
        "y_pred = pipe.predict(temp_test)\n",
        "y_pred = pd.DataFrame(y_pred)\n",
        "y_pred.value_counts()"
      ],
      "metadata": {
        "colab": {
          "base_uri": "https://localhost:8080/",
          "height": 178
        },
        "id": "o7Kb3hv3Jj3q",
        "outputId": "c588e488-4a7f-4173-e54a-e86bb2156d96"
      },
      "execution_count": 62,
      "outputs": [
        {
          "output_type": "execute_result",
          "data": {
            "text/plain": [
              "1    530\n",
              "0    470\n",
              "Name: count, dtype: int64"
            ],
            "text/html": [
              "<div>\n",
              "<style scoped>\n",
              "    .dataframe tbody tr th:only-of-type {\n",
              "        vertical-align: middle;\n",
              "    }\n",
              "\n",
              "    .dataframe tbody tr th {\n",
              "        vertical-align: top;\n",
              "    }\n",
              "\n",
              "    .dataframe thead th {\n",
              "        text-align: right;\n",
              "    }\n",
              "</style>\n",
              "<table border=\"1\" class=\"dataframe\">\n",
              "  <thead>\n",
              "    <tr style=\"text-align: right;\">\n",
              "      <th></th>\n",
              "      <th>count</th>\n",
              "    </tr>\n",
              "    <tr>\n",
              "      <th>0</th>\n",
              "      <th></th>\n",
              "    </tr>\n",
              "  </thead>\n",
              "  <tbody>\n",
              "    <tr>\n",
              "      <th>1</th>\n",
              "      <td>530</td>\n",
              "    </tr>\n",
              "    <tr>\n",
              "      <th>0</th>\n",
              "      <td>470</td>\n",
              "    </tr>\n",
              "  </tbody>\n",
              "</table>\n",
              "</div><br><label><b>dtype:</b> int64</label>"
            ]
          },
          "metadata": {},
          "execution_count": 62
        }
      ]
    },
    {
      "cell_type": "code",
      "source": [
        "temp_ans.value_counts()"
      ],
      "metadata": {
        "colab": {
          "base_uri": "https://localhost:8080/",
          "height": 178
        },
        "id": "XlEMOmdsO2UH",
        "outputId": "6d33bb31-e4a7-4310-e1a4-a6db48699da6"
      },
      "execution_count": 63,
      "outputs": [
        {
          "output_type": "execute_result",
          "data": {
            "text/plain": [
              "class\n",
              "1    534\n",
              "0    466\n",
              "Name: count, dtype: int64"
            ],
            "text/html": [
              "<div>\n",
              "<style scoped>\n",
              "    .dataframe tbody tr th:only-of-type {\n",
              "        vertical-align: middle;\n",
              "    }\n",
              "\n",
              "    .dataframe tbody tr th {\n",
              "        vertical-align: top;\n",
              "    }\n",
              "\n",
              "    .dataframe thead th {\n",
              "        text-align: right;\n",
              "    }\n",
              "</style>\n",
              "<table border=\"1\" class=\"dataframe\">\n",
              "  <thead>\n",
              "    <tr style=\"text-align: right;\">\n",
              "      <th></th>\n",
              "      <th>count</th>\n",
              "    </tr>\n",
              "    <tr>\n",
              "      <th>class</th>\n",
              "      <th></th>\n",
              "    </tr>\n",
              "  </thead>\n",
              "  <tbody>\n",
              "    <tr>\n",
              "      <th>1</th>\n",
              "      <td>534</td>\n",
              "    </tr>\n",
              "    <tr>\n",
              "      <th>0</th>\n",
              "      <td>466</td>\n",
              "    </tr>\n",
              "  </tbody>\n",
              "</table>\n",
              "</div><br><label><b>dtype:</b> int64</label>"
            ]
          },
          "metadata": {},
          "execution_count": 63
        }
      ]
    },
    {
      "cell_type": "code",
      "source": [
        "from sklearn.metrics import accuracy_score\n",
        "accuracy_score(y_pred,temp_ans)*100"
      ],
      "metadata": {
        "colab": {
          "base_uri": "https://localhost:8080/"
        },
        "id": "doypSy4EKa2Q",
        "outputId": "a58e5235-b9c4-4921-ecd7-85fff3e9edf5"
      },
      "execution_count": 65,
      "outputs": [
        {
          "output_type": "execute_result",
          "data": {
            "text/plain": [
              "98.6"
            ]
          },
          "metadata": {},
          "execution_count": 65
        }
      ]
    },
    {
      "cell_type": "code",
      "source": [],
      "metadata": {
        "id": "Sc_EeVakK3P8"
      },
      "execution_count": 54,
      "outputs": []
    }
  ]
}